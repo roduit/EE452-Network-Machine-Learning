{
 "cells": [
  {
   "cell_type": "code",
   "execution_count": 1,
   "metadata": {},
   "outputs": [],
   "source": [
    "# -*- coding: utf-8 -*-\n",
    "# -*- authors : Vincent Roduit -*-\n",
    "# -*- date : 2025-04-24 -*-\n",
    "# -*- Last revision: 2025-04-09 by roduit -*-\n",
    "# -*- python version : 3.11.11 -*-\n",
    "# -*- Description: Notebook that summarizeses the main results-*-"
   ]
  },
  {
   "cell_type": "markdown",
   "metadata": {},
   "source": [
    "# <center> EE-452: Network Machine Learning </center>\n",
    "## <center> Ecole Polytechnique Fédérale de Lausanne </center>\n",
    "### <center>Graph-based EEG Analysis </center>\n",
    "---"
   ]
  },
  {
   "cell_type": "code",
   "execution_count": 2,
   "metadata": {},
   "outputs": [],
   "source": [
    "#import libraries\n",
    "import pandas as pd\n",
    "from pathlib import Path\n",
    "import sys\n",
    "\n",
    "#import modules\n",
    "import constants\n",
    "from transform_func import *\n",
    "from cnn_base import CnnBase\n",
    "from dataloader import load_data\n",
    "from utils import *\n",
    "\n",
    "%load_ext autoreload\n",
    "%autoreload 2"
   ]
  },
  {
   "cell_type": "code",
   "execution_count": 10,
   "metadata": {},
   "outputs": [],
   "source": [
    "parent_dir = Path.cwd().resolve().parent.parent\n",
    "os.chdir(parent_dir)"
   ]
  },
  {
   "cell_type": "markdown",
   "metadata": {},
   "source": [
    "# Load Data"
   ]
  },
  {
   "cell_type": "markdown",
   "metadata": {},
   "source": [
    "## Train"
   ]
  },
  {
   "cell_type": "code",
   "execution_count": 12,
   "metadata": {},
   "outputs": [],
   "source": [
    "cfg = read_yml('project/config/exp/cnn/basic_cnn.yml')\n"
   ]
  },
  {
   "cell_type": "code",
   "execution_count": 13,
   "metadata": {},
   "outputs": [],
   "source": [
    "loader_train = load_data(cfg.get(\"datasets\")[0])"
   ]
  },
  {
   "cell_type": "markdown",
   "metadata": {},
   "source": [
    "## Validation"
   ]
  },
  {
   "cell_type": "code",
   "execution_count": 15,
   "metadata": {},
   "outputs": [],
   "source": [
    "loader_val = load_data(cfg.get(\"datasets\")[1])"
   ]
  },
  {
   "cell_type": "markdown",
   "metadata": {},
   "source": [
    "## Test"
   ]
  },
  {
   "cell_type": "code",
   "execution_count": 16,
   "metadata": {},
   "outputs": [],
   "source": [
    "loader_test = load_data(cfg.get(\"datasets\")[2])"
   ]
  },
  {
   "cell_type": "code",
   "execution_count": 18,
   "metadata": {},
   "outputs": [],
   "source": [
    "for test_images, test_labels in loader_test:  \n",
    "    sample_image = test_images[0]    # Reshape them according to your needs.\n",
    "    sample_label = test_labels[0]"
   ]
  },
  {
   "cell_type": "code",
   "execution_count": 20,
   "metadata": {},
   "outputs": [
    {
     "data": {
      "text/plain": [
       "tensor(0)"
      ]
     },
     "execution_count": 20,
     "metadata": {},
     "output_type": "execute_result"
    }
   ],
   "source": [
    "sample_label"
   ]
  },
  {
   "cell_type": "code",
   "execution_count": 2,
   "metadata": {},
   "outputs": [],
   "source": [
    "import pandas as pd\n",
    "test = pd.read_parquet('/Users/vincentroduit/Desktop/segments.parquet')"
   ]
  },
  {
   "cell_type": "code",
   "execution_count": 3,
   "metadata": {},
   "outputs": [
    {
     "data": {
      "application/vnd.microsoft.datawrangler.viewer.v0+json": {
       "columns": [
        {
         "name": "('patient', 'session', 'segment')",
         "rawType": "object",
         "type": "unknown"
        },
        {
         "name": "start_time",
         "rawType": "float64",
         "type": "float"
        },
        {
         "name": "end_time",
         "rawType": "float64",
         "type": "float"
        },
        {
         "name": "date",
         "rawType": "datetime64[ns]",
         "type": "datetime"
        },
        {
         "name": "sampling_rate",
         "rawType": "int64",
         "type": "integer"
        },
        {
         "name": "signals_path",
         "rawType": "object",
         "type": "string"
        }
       ],
       "conversionMethod": "pd.DataFrame",
       "ref": "b5d27cad-4a71-4e3d-9ea0-4ef35838e7c6",
       "rows": [
        [
         "('pqejgcvm', 's001_t000', 0)",
         "0.0",
         "12.0",
         "2002-01-01 00:00:00",
         "250",
         "signals/pqejgcvm_s001_t000.parquet"
        ],
        [
         "('pqejgcvm', 's001_t000', 1)",
         "12.0",
         "24.0",
         "2002-01-01 00:00:00",
         "250",
         "signals/pqejgcvm_s001_t000.parquet"
        ],
        [
         "('pqejgcvm', 's001_t000', 2)",
         "24.0",
         "36.0",
         "2002-01-01 00:00:00",
         "250",
         "signals/pqejgcvm_s001_t000.parquet"
        ],
        [
         "('pqejgcvm', 's001_t000', 3)",
         "36.0",
         "48.0",
         "2002-01-01 00:00:00",
         "250",
         "signals/pqejgcvm_s001_t000.parquet"
        ],
        [
         "('pqejgcvm', 's001_t000', 4)",
         "48.0",
         "60.0",
         "2002-01-01 00:00:00",
         "250",
         "signals/pqejgcvm_s001_t000.parquet"
        ],
        [
         "('pqejgcvm', 's001_t000', 5)",
         "60.0",
         "72.0",
         "2002-01-01 00:00:00",
         "250",
         "signals/pqejgcvm_s001_t000.parquet"
        ],
        [
         "('pqejgcvm', 's001_t000', 6)",
         "72.0",
         "84.0",
         "2002-01-01 00:00:00",
         "250",
         "signals/pqejgcvm_s001_t000.parquet"
        ],
        [
         "('pqejgcvm', 's001_t000', 7)",
         "84.0",
         "96.0",
         "2002-01-01 00:00:00",
         "250",
         "signals/pqejgcvm_s001_t000.parquet"
        ],
        [
         "('pqejgcvm', 's001_t000', 8)",
         "96.0",
         "108.0",
         "2002-01-01 00:00:00",
         "250",
         "signals/pqejgcvm_s001_t000.parquet"
        ],
        [
         "('pqejgcvm', 's001_t000', 9)",
         "108.0",
         "120.0",
         "2002-01-01 00:00:00",
         "250",
         "signals/pqejgcvm_s001_t000.parquet"
        ],
        [
         "('pqejgcvm', 's001_t000', 10)",
         "120.0",
         "132.0",
         "2002-01-01 00:00:00",
         "250",
         "signals/pqejgcvm_s001_t000.parquet"
        ],
        [
         "('pqejgcvm', 's001_t000', 11)",
         "132.0",
         "144.0",
         "2002-01-01 00:00:00",
         "250",
         "signals/pqejgcvm_s001_t000.parquet"
        ],
        [
         "('pqejgcvm', 's001_t000', 12)",
         "144.0",
         "156.0",
         "2002-01-01 00:00:00",
         "250",
         "signals/pqejgcvm_s001_t000.parquet"
        ],
        [
         "('pqejgcvm', 's001_t000', 13)",
         "156.0",
         "168.0",
         "2002-01-01 00:00:00",
         "250",
         "signals/pqejgcvm_s001_t000.parquet"
        ],
        [
         "('pqejgcvm', 's001_t000', 14)",
         "168.0",
         "180.0",
         "2002-01-01 00:00:00",
         "250",
         "signals/pqejgcvm_s001_t000.parquet"
        ],
        [
         "('pqejgcvm', 's001_t000', 15)",
         "180.0",
         "192.0",
         "2002-01-01 00:00:00",
         "250",
         "signals/pqejgcvm_s001_t000.parquet"
        ],
        [
         "('pqejgcvm', 's001_t000', 16)",
         "192.0",
         "204.0",
         "2002-01-01 00:00:00",
         "250",
         "signals/pqejgcvm_s001_t000.parquet"
        ],
        [
         "('pqejgcvm', 's001_t000', 17)",
         "204.0",
         "216.0",
         "2002-01-01 00:00:00",
         "250",
         "signals/pqejgcvm_s001_t000.parquet"
        ],
        [
         "('pqejgcvm', 's001_t000', 18)",
         "216.0",
         "228.0",
         "2002-01-01 00:00:00",
         "250",
         "signals/pqejgcvm_s001_t000.parquet"
        ],
        [
         "('pqejgcvm', 's001_t000', 19)",
         "228.0",
         "240.0",
         "2002-01-01 00:00:00",
         "250",
         "signals/pqejgcvm_s001_t000.parquet"
        ],
        [
         "('pqejgcvm', 's001_t000', 20)",
         "240.0",
         "252.0",
         "2002-01-01 00:00:00",
         "250",
         "signals/pqejgcvm_s001_t000.parquet"
        ],
        [
         "('pqejgcvm', 's001_t000', 21)",
         "252.0",
         "264.0",
         "2002-01-01 00:00:00",
         "250",
         "signals/pqejgcvm_s001_t000.parquet"
        ],
        [
         "('pqejgcvm', 's001_t000', 22)",
         "264.0",
         "276.0",
         "2002-01-01 00:00:00",
         "250",
         "signals/pqejgcvm_s001_t000.parquet"
        ],
        [
         "('pqejgcvm', 's001_t000', 23)",
         "276.0",
         "288.0",
         "2002-01-01 00:00:00",
         "250",
         "signals/pqejgcvm_s001_t000.parquet"
        ],
        [
         "('pqejgcvm', 's001_t000', 24)",
         "288.0",
         "300.0",
         "2002-01-01 00:00:00",
         "250",
         "signals/pqejgcvm_s001_t000.parquet"
        ],
        [
         "('pqejgcvm', 's001_t001', 0)",
         "0.0",
         "12.0",
         "2002-01-01 00:00:00",
         "250",
         "signals/pqejgcvm_s001_t001.parquet"
        ],
        [
         "('pqejgcvm', 's001_t001', 1)",
         "12.0",
         "24.0",
         "2002-01-01 00:00:00",
         "250",
         "signals/pqejgcvm_s001_t001.parquet"
        ],
        [
         "('pqejgcvm', 's001_t001', 2)",
         "24.0",
         "36.0",
         "2002-01-01 00:00:00",
         "250",
         "signals/pqejgcvm_s001_t001.parquet"
        ],
        [
         "('pqejgcvm', 's001_t001', 3)",
         "36.0",
         "48.0",
         "2002-01-01 00:00:00",
         "250",
         "signals/pqejgcvm_s001_t001.parquet"
        ],
        [
         "('pqejgcvm', 's001_t001', 4)",
         "48.0",
         "60.0",
         "2002-01-01 00:00:00",
         "250",
         "signals/pqejgcvm_s001_t001.parquet"
        ],
        [
         "('pqejgcvm', 's001_t001', 5)",
         "60.0",
         "72.0",
         "2002-01-01 00:00:00",
         "250",
         "signals/pqejgcvm_s001_t001.parquet"
        ],
        [
         "('pqejgcvm', 's001_t001', 6)",
         "72.0",
         "84.0",
         "2002-01-01 00:00:00",
         "250",
         "signals/pqejgcvm_s001_t001.parquet"
        ],
        [
         "('pqejgcvm', 's001_t001', 7)",
         "84.0",
         "96.0",
         "2002-01-01 00:00:00",
         "250",
         "signals/pqejgcvm_s001_t001.parquet"
        ],
        [
         "('pqejgcvm', 's001_t001', 8)",
         "96.0",
         "108.0",
         "2002-01-01 00:00:00",
         "250",
         "signals/pqejgcvm_s001_t001.parquet"
        ],
        [
         "('pqejgcvm', 's001_t001', 9)",
         "108.0",
         "120.0",
         "2002-01-01 00:00:00",
         "250",
         "signals/pqejgcvm_s001_t001.parquet"
        ],
        [
         "('pqejgcvm', 's001_t001', 10)",
         "120.0",
         "132.0",
         "2002-01-01 00:00:00",
         "250",
         "signals/pqejgcvm_s001_t001.parquet"
        ],
        [
         "('pqejgcvm', 's001_t001', 11)",
         "132.0",
         "144.0",
         "2002-01-01 00:00:00",
         "250",
         "signals/pqejgcvm_s001_t001.parquet"
        ],
        [
         "('pqejgcvm', 's001_t001', 12)",
         "144.0",
         "156.0",
         "2002-01-01 00:00:00",
         "250",
         "signals/pqejgcvm_s001_t001.parquet"
        ],
        [
         "('pqejgcvm', 's001_t001', 13)",
         "156.0",
         "168.0",
         "2002-01-01 00:00:00",
         "250",
         "signals/pqejgcvm_s001_t001.parquet"
        ],
        [
         "('pqejgcvm', 's001_t001', 14)",
         "168.0",
         "180.0",
         "2002-01-01 00:00:00",
         "250",
         "signals/pqejgcvm_s001_t001.parquet"
        ],
        [
         "('pqejgcvm', 's001_t001', 15)",
         "180.0",
         "192.0",
         "2002-01-01 00:00:00",
         "250",
         "signals/pqejgcvm_s001_t001.parquet"
        ],
        [
         "('pqejgcvm', 's001_t001', 16)",
         "192.0",
         "204.0",
         "2002-01-01 00:00:00",
         "250",
         "signals/pqejgcvm_s001_t001.parquet"
        ],
        [
         "('pqejgcvm', 's001_t001', 17)",
         "204.0",
         "216.0",
         "2002-01-01 00:00:00",
         "250",
         "signals/pqejgcvm_s001_t001.parquet"
        ],
        [
         "('pqejgcvm', 's001_t001', 18)",
         "216.0",
         "228.0",
         "2002-01-01 00:00:00",
         "250",
         "signals/pqejgcvm_s001_t001.parquet"
        ],
        [
         "('pqejgcvm', 's002_t000', 0)",
         "0.0",
         "12.0",
         "2002-01-01 00:00:00",
         "250",
         "signals/pqejgcvm_s002_t000.parquet"
        ],
        [
         "('pqejgcvm', 's002_t000', 1)",
         "12.0",
         "24.0",
         "2002-01-01 00:00:00",
         "250",
         "signals/pqejgcvm_s002_t000.parquet"
        ],
        [
         "('pqejgcvm', 's002_t000', 2)",
         "24.0",
         "36.0",
         "2002-01-01 00:00:00",
         "250",
         "signals/pqejgcvm_s002_t000.parquet"
        ],
        [
         "('pqejgcvm', 's002_t000', 3)",
         "36.0",
         "48.0",
         "2002-01-01 00:00:00",
         "250",
         "signals/pqejgcvm_s002_t000.parquet"
        ],
        [
         "('pqejgcvm', 's002_t000', 4)",
         "48.0",
         "60.0",
         "2002-01-01 00:00:00",
         "250",
         "signals/pqejgcvm_s002_t000.parquet"
        ],
        [
         "('pqejgcvm', 's002_t000', 5)",
         "60.0",
         "72.0",
         "2002-01-01 00:00:00",
         "250",
         "signals/pqejgcvm_s002_t000.parquet"
        ]
       ],
       "shape": {
        "columns": 5,
        "rows": 3614
       }
      },
      "text/html": [
       "<div>\n",
       "<style scoped>\n",
       "    .dataframe tbody tr th:only-of-type {\n",
       "        vertical-align: middle;\n",
       "    }\n",
       "\n",
       "    .dataframe tbody tr th {\n",
       "        vertical-align: top;\n",
       "    }\n",
       "\n",
       "    .dataframe thead th {\n",
       "        text-align: right;\n",
       "    }\n",
       "</style>\n",
       "<table border=\"1\" class=\"dataframe\">\n",
       "  <thead>\n",
       "    <tr style=\"text-align: right;\">\n",
       "      <th></th>\n",
       "      <th></th>\n",
       "      <th></th>\n",
       "      <th>start_time</th>\n",
       "      <th>end_time</th>\n",
       "      <th>date</th>\n",
       "      <th>sampling_rate</th>\n",
       "      <th>signals_path</th>\n",
       "    </tr>\n",
       "    <tr>\n",
       "      <th>patient</th>\n",
       "      <th>session</th>\n",
       "      <th>segment</th>\n",
       "      <th></th>\n",
       "      <th></th>\n",
       "      <th></th>\n",
       "      <th></th>\n",
       "      <th></th>\n",
       "    </tr>\n",
       "  </thead>\n",
       "  <tbody>\n",
       "    <tr>\n",
       "      <th rowspan=\"5\" valign=\"top\">pqejgcvm</th>\n",
       "      <th rowspan=\"5\" valign=\"top\">s001_t000</th>\n",
       "      <th>0</th>\n",
       "      <td>0.0</td>\n",
       "      <td>12.0</td>\n",
       "      <td>2002-01-01</td>\n",
       "      <td>250</td>\n",
       "      <td>signals/pqejgcvm_s001_t000.parquet</td>\n",
       "    </tr>\n",
       "    <tr>\n",
       "      <th>1</th>\n",
       "      <td>12.0</td>\n",
       "      <td>24.0</td>\n",
       "      <td>2002-01-01</td>\n",
       "      <td>250</td>\n",
       "      <td>signals/pqejgcvm_s001_t000.parquet</td>\n",
       "    </tr>\n",
       "    <tr>\n",
       "      <th>2</th>\n",
       "      <td>24.0</td>\n",
       "      <td>36.0</td>\n",
       "      <td>2002-01-01</td>\n",
       "      <td>250</td>\n",
       "      <td>signals/pqejgcvm_s001_t000.parquet</td>\n",
       "    </tr>\n",
       "    <tr>\n",
       "      <th>3</th>\n",
       "      <td>36.0</td>\n",
       "      <td>48.0</td>\n",
       "      <td>2002-01-01</td>\n",
       "      <td>250</td>\n",
       "      <td>signals/pqejgcvm_s001_t000.parquet</td>\n",
       "    </tr>\n",
       "    <tr>\n",
       "      <th>4</th>\n",
       "      <td>48.0</td>\n",
       "      <td>60.0</td>\n",
       "      <td>2002-01-01</td>\n",
       "      <td>250</td>\n",
       "      <td>signals/pqejgcvm_s001_t000.parquet</td>\n",
       "    </tr>\n",
       "    <tr>\n",
       "      <th>...</th>\n",
       "      <th>...</th>\n",
       "      <th>...</th>\n",
       "      <td>...</td>\n",
       "      <td>...</td>\n",
       "      <td>...</td>\n",
       "      <td>...</td>\n",
       "      <td>...</td>\n",
       "    </tr>\n",
       "    <tr>\n",
       "      <th rowspan=\"5\" valign=\"top\">pqejgvej</th>\n",
       "      <th rowspan=\"5\" valign=\"top\">s001_t000</th>\n",
       "      <th>153</th>\n",
       "      <td>1836.0</td>\n",
       "      <td>1848.0</td>\n",
       "      <td>2015-01-01</td>\n",
       "      <td>250</td>\n",
       "      <td>signals/pqejgvej_s001_t000.parquet</td>\n",
       "    </tr>\n",
       "    <tr>\n",
       "      <th>154</th>\n",
       "      <td>1848.0</td>\n",
       "      <td>1860.0</td>\n",
       "      <td>2015-01-01</td>\n",
       "      <td>250</td>\n",
       "      <td>signals/pqejgvej_s001_t000.parquet</td>\n",
       "    </tr>\n",
       "    <tr>\n",
       "      <th>155</th>\n",
       "      <td>1860.0</td>\n",
       "      <td>1872.0</td>\n",
       "      <td>2015-01-01</td>\n",
       "      <td>250</td>\n",
       "      <td>signals/pqejgvej_s001_t000.parquet</td>\n",
       "    </tr>\n",
       "    <tr>\n",
       "      <th>156</th>\n",
       "      <td>1872.0</td>\n",
       "      <td>1884.0</td>\n",
       "      <td>2015-01-01</td>\n",
       "      <td>250</td>\n",
       "      <td>signals/pqejgvej_s001_t000.parquet</td>\n",
       "    </tr>\n",
       "    <tr>\n",
       "      <th>157</th>\n",
       "      <td>1884.0</td>\n",
       "      <td>1896.0</td>\n",
       "      <td>2015-01-01</td>\n",
       "      <td>250</td>\n",
       "      <td>signals/pqejgvej_s001_t000.parquet</td>\n",
       "    </tr>\n",
       "  </tbody>\n",
       "</table>\n",
       "<p>3614 rows × 5 columns</p>\n",
       "</div>"
      ],
      "text/plain": [
       "                            start_time  end_time       date  sampling_rate  \\\n",
       "patient  session   segment                                                   \n",
       "pqejgcvm s001_t000 0               0.0      12.0 2002-01-01            250   \n",
       "                   1              12.0      24.0 2002-01-01            250   \n",
       "                   2              24.0      36.0 2002-01-01            250   \n",
       "                   3              36.0      48.0 2002-01-01            250   \n",
       "                   4              48.0      60.0 2002-01-01            250   \n",
       "...                                ...       ...        ...            ...   \n",
       "pqejgvej s001_t000 153          1836.0    1848.0 2015-01-01            250   \n",
       "                   154          1848.0    1860.0 2015-01-01            250   \n",
       "                   155          1860.0    1872.0 2015-01-01            250   \n",
       "                   156          1872.0    1884.0 2015-01-01            250   \n",
       "                   157          1884.0    1896.0 2015-01-01            250   \n",
       "\n",
       "                                                  signals_path  \n",
       "patient  session   segment                                      \n",
       "pqejgcvm s001_t000 0        signals/pqejgcvm_s001_t000.parquet  \n",
       "                   1        signals/pqejgcvm_s001_t000.parquet  \n",
       "                   2        signals/pqejgcvm_s001_t000.parquet  \n",
       "                   3        signals/pqejgcvm_s001_t000.parquet  \n",
       "                   4        signals/pqejgcvm_s001_t000.parquet  \n",
       "...                                                        ...  \n",
       "pqejgvej s001_t000 153      signals/pqejgvej_s001_t000.parquet  \n",
       "                   154      signals/pqejgvej_s001_t000.parquet  \n",
       "                   155      signals/pqejgvej_s001_t000.parquet  \n",
       "                   156      signals/pqejgvej_s001_t000.parquet  \n",
       "                   157      signals/pqejgvej_s001_t000.parquet  \n",
       "\n",
       "[3614 rows x 5 columns]"
      ]
     },
     "execution_count": 3,
     "metadata": {},
     "output_type": "execute_result"
    }
   ],
   "source": [
    "test"
   ]
  },
  {
   "cell_type": "markdown",
   "metadata": {},
   "source": [
    "# Models"
   ]
  },
  {
   "cell_type": "markdown",
   "metadata": {},
   "source": [
    "## Basic CNN"
   ]
  },
  {
   "cell_type": "code",
   "execution_count": 10,
   "metadata": {},
   "outputs": [],
   "source": [
    "basic_cnn = CnnModel(input_shape=19, output_shape=1)"
   ]
  },
  {
   "cell_type": "code",
   "execution_count": 11,
   "metadata": {},
   "outputs": [
    {
     "name": "stderr",
     "output_type": "stream",
     "text": [
      "Training: 100%|██████████| 1/1 [00:02<00:00,  2.77s/it]\n"
     ]
    }
   ],
   "source": [
    "basic_cnn.train_model(loader_tr=loader_train, num_epochs=1)"
   ]
  },
  {
   "cell_type": "code",
   "execution_count": 14,
   "metadata": {},
   "outputs": [
    {
     "name": "stdout",
     "output_type": "stream",
     "text": [
      "Submission file created at test.csv\n"
     ]
    },
    {
     "data": {
      "application/vnd.microsoft.datawrangler.viewer.v0+json": {
       "columns": [
        {
         "name": "index",
         "rawType": "int64",
         "type": "integer"
        },
        {
         "name": "id",
         "rawType": "object",
         "type": "unknown"
        },
        {
         "name": "label",
         "rawType": "int64",
         "type": "integer"
        }
       ],
       "conversionMethod": "pd.DataFrame",
       "ref": "d3ca5563-ce7d-4636-a326-e904c9b1ca4f",
       "rows": [
        [
         "0",
         "tensor(0)",
         "0"
        ],
        [
         "1",
         "tensor(0)",
         "0"
        ],
        [
         "2",
         "tensor(0)",
         "0"
        ],
        [
         "3",
         "tensor(0)",
         "0"
        ],
        [
         "4",
         "tensor(0)",
         "0"
        ],
        [
         "5",
         "tensor(0)",
         "1"
        ],
        [
         "6",
         "tensor(0)",
         "1"
        ],
        [
         "7",
         "tensor(0)",
         "1"
        ],
        [
         "8",
         "tensor(0)",
         "1"
        ],
        [
         "9",
         "tensor(0)",
         "1"
        ],
        [
         "10",
         "tensor(0)",
         "1"
        ],
        [
         "11",
         "tensor(0)",
         "0"
        ],
        [
         "12",
         "tensor(0)",
         "0"
        ],
        [
         "13",
         "tensor(0)",
         "0"
        ],
        [
         "14",
         "tensor(0)",
         "0"
        ],
        [
         "15",
         "tensor(0)",
         "0"
        ],
        [
         "16",
         "tensor(0)",
         "0"
        ],
        [
         "17",
         "tensor(0)",
         "0"
        ],
        [
         "18",
         "tensor(0)",
         "0"
        ],
        [
         "19",
         "tensor(0)",
         "0"
        ],
        [
         "20",
         "tensor(0)",
         "0"
        ],
        [
         "21",
         "tensor(0)",
         "0"
        ],
        [
         "22",
         "tensor(0)",
         "0"
        ],
        [
         "23",
         "tensor(0)",
         "0"
        ],
        [
         "24",
         "tensor(0)",
         "0"
        ],
        [
         "25",
         "tensor(0)",
         "0"
        ],
        [
         "26",
         "tensor(0)",
         "1"
        ],
        [
         "27",
         "tensor(0)",
         "1"
        ],
        [
         "28",
         "tensor(0)",
         "1"
        ],
        [
         "29",
         "tensor(0)",
         "1"
        ],
        [
         "30",
         "tensor(0)",
         "1"
        ],
        [
         "31",
         "tensor(0)",
         "1"
        ],
        [
         "32",
         "tensor(0)",
         "1"
        ],
        [
         "33",
         "tensor(0)",
         "1"
        ],
        [
         "34",
         "tensor(0)",
         "0"
        ],
        [
         "35",
         "tensor(0)",
         "0"
        ],
        [
         "36",
         "tensor(0)",
         "0"
        ],
        [
         "37",
         "tensor(0)",
         "0"
        ],
        [
         "38",
         "tensor(0)",
         "0"
        ],
        [
         "39",
         "tensor(0)",
         "0"
        ],
        [
         "40",
         "tensor(0)",
         "0"
        ],
        [
         "41",
         "tensor(0)",
         "0"
        ],
        [
         "42",
         "tensor(0)",
         "0"
        ],
        [
         "43",
         "tensor(0)",
         "0"
        ],
        [
         "44",
         "tensor(0)",
         "0"
        ],
        [
         "45",
         "tensor(0)",
         "0"
        ],
        [
         "46",
         "tensor(0)",
         "0"
        ],
        [
         "47",
         "tensor(0)",
         "1"
        ],
        [
         "48",
         "tensor(0)",
         "1"
        ],
        [
         "49",
         "tensor(0)",
         "1"
        ]
       ],
       "shape": {
        "columns": 2,
        "rows": 3614
       }
      },
      "text/html": [
       "<div>\n",
       "<style scoped>\n",
       "    .dataframe tbody tr th:only-of-type {\n",
       "        vertical-align: middle;\n",
       "    }\n",
       "\n",
       "    .dataframe tbody tr th {\n",
       "        vertical-align: top;\n",
       "    }\n",
       "\n",
       "    .dataframe thead th {\n",
       "        text-align: right;\n",
       "    }\n",
       "</style>\n",
       "<table border=\"1\" class=\"dataframe\">\n",
       "  <thead>\n",
       "    <tr style=\"text-align: right;\">\n",
       "      <th></th>\n",
       "      <th>id</th>\n",
       "      <th>label</th>\n",
       "    </tr>\n",
       "  </thead>\n",
       "  <tbody>\n",
       "    <tr>\n",
       "      <th>0</th>\n",
       "      <td>tensor(0)</td>\n",
       "      <td>0</td>\n",
       "    </tr>\n",
       "    <tr>\n",
       "      <th>1</th>\n",
       "      <td>tensor(0)</td>\n",
       "      <td>0</td>\n",
       "    </tr>\n",
       "    <tr>\n",
       "      <th>2</th>\n",
       "      <td>tensor(0)</td>\n",
       "      <td>0</td>\n",
       "    </tr>\n",
       "    <tr>\n",
       "      <th>3</th>\n",
       "      <td>tensor(0)</td>\n",
       "      <td>0</td>\n",
       "    </tr>\n",
       "    <tr>\n",
       "      <th>4</th>\n",
       "      <td>tensor(0)</td>\n",
       "      <td>0</td>\n",
       "    </tr>\n",
       "    <tr>\n",
       "      <th>...</th>\n",
       "      <td>...</td>\n",
       "      <td>...</td>\n",
       "    </tr>\n",
       "    <tr>\n",
       "      <th>3609</th>\n",
       "      <td>tensor(0)</td>\n",
       "      <td>0</td>\n",
       "    </tr>\n",
       "    <tr>\n",
       "      <th>3610</th>\n",
       "      <td>tensor(0)</td>\n",
       "      <td>0</td>\n",
       "    </tr>\n",
       "    <tr>\n",
       "      <th>3611</th>\n",
       "      <td>tensor(0)</td>\n",
       "      <td>0</td>\n",
       "    </tr>\n",
       "    <tr>\n",
       "      <th>3612</th>\n",
       "      <td>tensor(0)</td>\n",
       "      <td>0</td>\n",
       "    </tr>\n",
       "    <tr>\n",
       "      <th>3613</th>\n",
       "      <td>tensor(0)</td>\n",
       "      <td>0</td>\n",
       "    </tr>\n",
       "  </tbody>\n",
       "</table>\n",
       "<p>3614 rows × 2 columns</p>\n",
       "</div>"
      ],
      "text/plain": [
       "             id  label\n",
       "0     tensor(0)      0\n",
       "1     tensor(0)      0\n",
       "2     tensor(0)      0\n",
       "3     tensor(0)      0\n",
       "4     tensor(0)      0\n",
       "...         ...    ...\n",
       "3609  tensor(0)      0\n",
       "3610  tensor(0)      0\n",
       "3611  tensor(0)      0\n",
       "3612  tensor(0)      0\n",
       "3613  tensor(0)      0\n",
       "\n",
       "[3614 rows x 2 columns]"
      ]
     },
     "execution_count": 14,
     "metadata": {},
     "output_type": "execute_result"
    }
   ],
   "source": [
    "basic_cnn.create_submission(loader_test, 'test.csv')"
   ]
  }
 ],
 "metadata": {
  "kernelspec": {
   "display_name": "nml-project",
   "language": "python",
   "name": "python3"
  },
  "language_info": {
   "codemirror_mode": {
    "name": "ipython",
    "version": 3
   },
   "file_extension": ".py",
   "mimetype": "text/x-python",
   "name": "python",
   "nbconvert_exporter": "python",
   "pygments_lexer": "ipython3",
   "version": "3.12.10"
  }
 },
 "nbformat": 4,
 "nbformat_minor": 2
}
