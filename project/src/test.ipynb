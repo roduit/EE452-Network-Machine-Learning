{
 "cells": [
  {
   "cell_type": "code",
   "execution_count": 1,
   "metadata": {},
   "outputs": [],
   "source": [
    "# -*- coding: utf-8 -*-\n",
    "# -*- authors : Vincent Roduit -*-\n",
    "# -*- date : 2025-04-24 -*-\n",
    "# -*- Last revision: 2025-04-09 by roduit -*-\n",
    "# -*- python version : 3.11.11 -*-\n",
    "# -*- Description: Notebook that summarizeses the main results-*-"
   ]
  },
  {
   "cell_type": "markdown",
   "metadata": {},
   "source": [
    "# <center> EE-452: Network Machine Learning </center>\n",
    "## <center> Ecole Polytechnique Fédérale de Lausanne </center>\n",
    "### <center>Graph-based EEG Analysis </center>\n",
    "---"
   ]
  },
  {
   "cell_type": "code",
   "execution_count": 19,
   "metadata": {},
   "outputs": [
    {
     "name": "stdout",
     "output_type": "stream",
     "text": [
      "The autoreload extension is already loaded. To reload it, use:\n",
      "  %reload_ext autoreload\n"
     ]
    }
   ],
   "source": [
    "#import libraries\n",
    "import pandas as pd\n",
    "from seiz_eeg.dataset import EEGDataset\n",
    "from torch.utils.data import DataLoader\n",
    "\n",
    "#import modules\n",
    "import constants\n",
    "from processing import *\n",
    "from cnn_base import CnnModel\n",
    "%load_ext autoreload\n",
    "%autoreload 2"
   ]
  },
  {
   "cell_type": "markdown",
   "metadata": {},
   "source": [
    "# Load Data"
   ]
  },
  {
   "cell_type": "markdown",
   "metadata": {},
   "source": [
    "## Train"
   ]
  },
  {
   "cell_type": "code",
   "execution_count": 23,
   "metadata": {},
   "outputs": [],
   "source": [
    "clips_train = pd.read_parquet(constants.CLIPS_TRAIN_DIR)\n",
    "\n",
    "dataset_tr = EEGDataset(\n",
    "    clips_train,\n",
    "    signals_root=constants.TRAIN_DIR,\n",
    "    signal_transform=fft_filtering,\n",
    "    prefetch=True)\n",
    "\n",
    "loader_train = DataLoader(dataset_tr, batch_size=constants.BATCH_SIZE, shuffle=True)\n"
   ]
  },
  {
   "cell_type": "markdown",
   "metadata": {},
   "source": [
    "## Test"
   ]
  },
  {
   "cell_type": "code",
   "execution_count": 24,
   "metadata": {},
   "outputs": [],
   "source": [
    "clips_test = pd.read_parquet(constants.CLIPS_TEST_DIR)\n",
    "\n",
    "dataset_te = EEGDataset(\n",
    "    clips_test,\n",
    "    signals_root=constants.TEST_DIR,\n",
    "    signal_transform=fft_filtering,\n",
    "    prefetch=True)\n",
    "loader_te = DataLoader(dataset_te, batch_size=constants.BATCH_SIZE, shuffle=False)"
   ]
  },
  {
   "cell_type": "markdown",
   "metadata": {},
   "source": [
    "# Models"
   ]
  },
  {
   "cell_type": "markdown",
   "metadata": {},
   "source": [
    "## Basic CNN"
   ]
  },
  {
   "cell_type": "code",
   "execution_count": 40,
   "metadata": {},
   "outputs": [],
   "source": [
    "basic_cnn = CnnModel(input_shape=19, output_shape=1)"
   ]
  },
  {
   "cell_type": "code",
   "execution_count": 41,
   "metadata": {},
   "outputs": [
    {
     "name": "stderr",
     "output_type": "stream",
     "text": [
      "Training: 100%|██████████| 1/1 [00:08<00:00,  8.15s/it]\n"
     ]
    }
   ],
   "source": [
    "basic_cnn.train_model(loader_tr=loader_train, num_epochs=1)"
   ]
  }
 ],
 "metadata": {
  "kernelspec": {
   "display_name": "nml-project",
   "language": "python",
   "name": "python3"
  },
  "language_info": {
   "codemirror_mode": {
    "name": "ipython",
    "version": 3
   },
   "file_extension": ".py",
   "mimetype": "text/x-python",
   "name": "python",
   "nbconvert_exporter": "python",
   "pygments_lexer": "ipython3",
   "version": "3.11.11"
  }
 },
 "nbformat": 4,
 "nbformat_minor": 2
}
