{
    "cells": [
        {
            "cell_type": "markdown",
            "metadata": {
                "id": "8S5mo9I3pA2Q"
            },
            "source": [
                "# [NML-24] Exercise 1: Pandas, NumPy, and Scikit-learn basics\n",
                "\n",
                "TAs: [William Cappelletti](https://people.epfl.ch/william.cappelletti) and [Abdellah Rahmani](https://people.epfl.ch/abdellah.rahmani)"
            ]
        },
        {
            "cell_type": "markdown",
            "metadata": {},
            "source": [
                "## Instructions\n",
                "\n",
                "**!! Read carefully before starting !!**\n",
                "\n",
                "Exercises will have the same format as assignments, so use them to get familiar with the submission format.\n",
                "\n",
                "**Expected output:**\n",
                "\n",
                "You will have coding and theoretical questions. Coding exercises shall be solved within the specified space:\n",
                "```python\n",
                "# Your solution here ###########################################################\n",
                "...\n",
                "#^^^^^^^^^^^^^^^^^^^^^^^^^^^^^^^^^^^^^^^^^^^^^^^^^^^^^^^^^^^^^^^^^^^^^^^^^^^^^^^\n",
                "```\n",
                "Sometimes we provide variable names, such as `x = ...`; do not change names and stick to hinted typing, as they will be reused later.\n",
                "Within the solution space, you can declare any other variable of function that you might need, but anything outside these lines shall not be changed, or it will invalidate your answers.\n",
                "\n",
                "Theoretical questions shall be answered in the following markdown cell. The first line will be \n",
                "```markdown\n",
                "**Your answer here:**\n",
                "...\n",
                "```\n",
                "\n",
                "**Solutions:**\n",
                "* Your submission is self-contained in the `.ipynb` file.\n",
                "\n",
                "* Code has to be clean and readable. Provide meaningful variable names and comment where needed.\n",
                "\n",
                "* Textual answers in [markdown cells][md_cells] shall be short: one to two\n",
                "  sentences. Math shall be written in [LaTeX][md_latex].\n",
                "    **NOTE**: handwritten notes pasted in the notebook are ignored\n",
                "\n",
                "* You cannot import any other library than we imported, unless explicitly stated.\n",
                "\n",
                "* Make sure all cells are executed before submitting. I.e., if you open the notebook again it should show numerical results and plots. Cells not run are ignored.\n",
                "\n",
                "* Execute your notebook from a blank state before submission, to make sure it is reproducible. You can click \"Kernel\" then \"Restart Kernel and Run All Cells\" in Jupyter. We might re-run cells to ensure that the code is working and corresponds to the results.\n",
                "\n",
                "[md_cells]: https://jupyter-notebook.readthedocs.io/en/stable/examples/Notebook/Working%20With%20Markdown%20Cells.html\n",
                "[md_latex]: https://jupyter-notebook.readthedocs.io/en/stable/examples/Notebook/Working%20With%20Markdown%20Cells.html#LaTex-equations"
            ]
        },
        {
            "cell_type": "markdown",
            "metadata": {
                "id": "cmp4-YzspA2V"
            },
            "source": [
                "## Objective\n",
                "\n",
                "This exercise session explore some basic Python libraries that we will use multiple times during the assignments and projects, namely\n",
                "* [Pandas](https://pandas.pydata.org/docs/)\n",
                "* [NumPy](https://numpy.org/devdocs/user/index.html)\n",
                "* [Scikit-learn](https://scikit-learn.org/stable/user_guide.html)\n",
                "\n",
                "If you know those libraries, most task in this notebook will be easy. If you struggle with some aspects, take time to revise the library documentations, as next sessions will rely on these tools.\n",
                "\n",
                "## Dataset\n",
                "\n",
                "We will use the [Palmer Archipelago (Antarctica) penguin data](https://github.com/allisonhorst/palmerpenguins/tree/main) for this exercise session.\n",
                "\n",
                "We provide a simplified version of the data in `penguins_size.csv`\n",
                "\n",
                "Dataset reference: https://doi.org/10.5281/zenodo.3960218"
            ]
        },
        {
            "cell_type": "code",
            "execution_count": 47,
            "metadata": {},
            "outputs": [],
            "source": [
                "# Plotting functions\n",
                "import matplotlib.pyplot as plt\n",
                "import seaborn as sns\n",
                "\n",
                "sns.set_theme()"
            ]
        },
        {
            "cell_type": "markdown",
            "metadata": {
                "id": "p-klVToLpA2W"
            },
            "source": [
                "## Part 1: Pandas, to manipulate tabular data"
            ]
        },
        {
            "cell_type": "code",
            "execution_count": 48,
            "metadata": {
                "executionInfo": {
                    "elapsed": 1098,
                    "status": "ok",
                    "timestamp": 1678195756241,
                    "user": {
                        "displayName": "William Cappelletti",
                        "userId": "12872756599850317206"
                    },
                    "user_tz": -60
                },
                "id": "D36pWRXdpA2X"
            },
            "outputs": [],
            "source": [
                "import pandas as pd"
            ]
        },
        {
            "cell_type": "markdown",
            "metadata": {
                "id": "4EP7SoAwITHs"
            },
            "source": [
                "### Question 1.1: Data loading and examination"
            ]
        },
        {
            "cell_type": "markdown",
            "metadata": {
                "id": "jS75sxnOJgoO"
            },
            "source": [
                "**1.1.1** Read the `penguins_size.csv` file into a Pandas DataFrame, using the `read_csv` function."
            ]
        },
        {
            "cell_type": "code",
            "execution_count": 49,
            "metadata": {
                "colab": {
                    "base_uri": "https://localhost:8080/"
                },
                "executionInfo": {
                    "elapsed": 903,
                    "status": "ok",
                    "timestamp": 1678195757142,
                    "user": {
                        "displayName": "William Cappelletti",
                        "userId": "12872756599850317206"
                    },
                    "user_tz": -60
                },
                "id": "iKhgUHzqpA2a",
                "outputId": "f5fe658a-b2c1-467e-c247-efbf6c580264"
            },
            "outputs": [],
            "source": [
                "# Your solution here ###########################################################\n",
                "penguins: pd.DataFrame = pd.read_csv(\"penguins_size.csv\")\n",
                "# ^^^^^^^^^^^^^^^^^^^^^^^^^^^^^^^^^^^^^^^^^^^^^^^^^^^^^^^^^^^^^^^^^^^^^^^^^^^^^^^"
            ]
        },
        {
            "cell_type": "markdown",
            "metadata": {},
            "source": [
                "**1.1.2** Extract the first five rows of the data frame and 10 random ones, then concatenate and display them. You can use the built-in `display` function."
            ]
        },
        {
            "cell_type": "code",
            "execution_count": 50,
            "metadata": {},
            "outputs": [
                {
                    "data": {
                        "text/html": [
                            "<div>\n",
                            "<style scoped>\n",
                            "    .dataframe tbody tr th:only-of-type {\n",
                            "        vertical-align: middle;\n",
                            "    }\n",
                            "\n",
                            "    .dataframe tbody tr th {\n",
                            "        vertical-align: top;\n",
                            "    }\n",
                            "\n",
                            "    .dataframe thead th {\n",
                            "        text-align: right;\n",
                            "    }\n",
                            "</style>\n",
                            "<table border=\"1\" class=\"dataframe\">\n",
                            "  <thead>\n",
                            "    <tr style=\"text-align: right;\">\n",
                            "      <th></th>\n",
                            "      <th>species</th>\n",
                            "      <th>island</th>\n",
                            "      <th>culmen_length_mm</th>\n",
                            "      <th>culmen_depth_mm</th>\n",
                            "      <th>flipper_length_mm</th>\n",
                            "      <th>body_mass_g</th>\n",
                            "      <th>sex</th>\n",
                            "    </tr>\n",
                            "  </thead>\n",
                            "  <tbody>\n",
                            "    <tr>\n",
                            "      <th>0</th>\n",
                            "      <td>Adelie</td>\n",
                            "      <td>Torgersen</td>\n",
                            "      <td>39.1</td>\n",
                            "      <td>18.7</td>\n",
                            "      <td>181.0</td>\n",
                            "      <td>3750.0</td>\n",
                            "      <td>MALE</td>\n",
                            "    </tr>\n",
                            "    <tr>\n",
                            "      <th>1</th>\n",
                            "      <td>Adelie</td>\n",
                            "      <td>Torgersen</td>\n",
                            "      <td>39.5</td>\n",
                            "      <td>17.4</td>\n",
                            "      <td>186.0</td>\n",
                            "      <td>3800.0</td>\n",
                            "      <td>FEMALE</td>\n",
                            "    </tr>\n",
                            "    <tr>\n",
                            "      <th>2</th>\n",
                            "      <td>Adelie</td>\n",
                            "      <td>Torgersen</td>\n",
                            "      <td>40.3</td>\n",
                            "      <td>18.0</td>\n",
                            "      <td>195.0</td>\n",
                            "      <td>3250.0</td>\n",
                            "      <td>FEMALE</td>\n",
                            "    </tr>\n",
                            "    <tr>\n",
                            "      <th>3</th>\n",
                            "      <td>Adelie</td>\n",
                            "      <td>Torgersen</td>\n",
                            "      <td>NaN</td>\n",
                            "      <td>NaN</td>\n",
                            "      <td>NaN</td>\n",
                            "      <td>NaN</td>\n",
                            "      <td>NaN</td>\n",
                            "    </tr>\n",
                            "    <tr>\n",
                            "      <th>4</th>\n",
                            "      <td>Adelie</td>\n",
                            "      <td>Torgersen</td>\n",
                            "      <td>36.7</td>\n",
                            "      <td>19.3</td>\n",
                            "      <td>193.0</td>\n",
                            "      <td>3450.0</td>\n",
                            "      <td>FEMALE</td>\n",
                            "    </tr>\n",
                            "    <tr>\n",
                            "      <th>264</th>\n",
                            "      <td>Gentoo</td>\n",
                            "      <td>Biscoe</td>\n",
                            "      <td>50.5</td>\n",
                            "      <td>15.9</td>\n",
                            "      <td>222.0</td>\n",
                            "      <td>5550.0</td>\n",
                            "      <td>MALE</td>\n",
                            "    </tr>\n",
                            "    <tr>\n",
                            "      <th>283</th>\n",
                            "      <td>Gentoo</td>\n",
                            "      <td>Biscoe</td>\n",
                            "      <td>54.3</td>\n",
                            "      <td>15.7</td>\n",
                            "      <td>231.0</td>\n",
                            "      <td>5650.0</td>\n",
                            "      <td>MALE</td>\n",
                            "    </tr>\n",
                            "    <tr>\n",
                            "      <th>145</th>\n",
                            "      <td>Adelie</td>\n",
                            "      <td>Dream</td>\n",
                            "      <td>39.0</td>\n",
                            "      <td>18.7</td>\n",
                            "      <td>185.0</td>\n",
                            "      <td>3650.0</td>\n",
                            "      <td>MALE</td>\n",
                            "    </tr>\n",
                            "    <tr>\n",
                            "      <th>219</th>\n",
                            "      <td>Chinstrap</td>\n",
                            "      <td>Dream</td>\n",
                            "      <td>50.2</td>\n",
                            "      <td>18.7</td>\n",
                            "      <td>198.0</td>\n",
                            "      <td>3775.0</td>\n",
                            "      <td>FEMALE</td>\n",
                            "    </tr>\n",
                            "    <tr>\n",
                            "      <th>172</th>\n",
                            "      <td>Chinstrap</td>\n",
                            "      <td>Dream</td>\n",
                            "      <td>42.4</td>\n",
                            "      <td>17.3</td>\n",
                            "      <td>181.0</td>\n",
                            "      <td>3600.0</td>\n",
                            "      <td>FEMALE</td>\n",
                            "    </tr>\n",
                            "    <tr>\n",
                            "      <th>282</th>\n",
                            "      <td>Gentoo</td>\n",
                            "      <td>Biscoe</td>\n",
                            "      <td>45.7</td>\n",
                            "      <td>13.9</td>\n",
                            "      <td>214.0</td>\n",
                            "      <td>4400.0</td>\n",
                            "      <td>FEMALE</td>\n",
                            "    </tr>\n",
                            "    <tr>\n",
                            "      <th>3</th>\n",
                            "      <td>Adelie</td>\n",
                            "      <td>Torgersen</td>\n",
                            "      <td>NaN</td>\n",
                            "      <td>NaN</td>\n",
                            "      <td>NaN</td>\n",
                            "      <td>NaN</td>\n",
                            "      <td>NaN</td>\n",
                            "    </tr>\n",
                            "    <tr>\n",
                            "      <th>69</th>\n",
                            "      <td>Adelie</td>\n",
                            "      <td>Torgersen</td>\n",
                            "      <td>41.8</td>\n",
                            "      <td>19.4</td>\n",
                            "      <td>198.0</td>\n",
                            "      <td>4450.0</td>\n",
                            "      <td>MALE</td>\n",
                            "    </tr>\n",
                            "    <tr>\n",
                            "      <th>202</th>\n",
                            "      <td>Chinstrap</td>\n",
                            "      <td>Dream</td>\n",
                            "      <td>48.1</td>\n",
                            "      <td>16.4</td>\n",
                            "      <td>199.0</td>\n",
                            "      <td>3325.0</td>\n",
                            "      <td>FEMALE</td>\n",
                            "    </tr>\n",
                            "    <tr>\n",
                            "      <th>106</th>\n",
                            "      <td>Adelie</td>\n",
                            "      <td>Biscoe</td>\n",
                            "      <td>38.6</td>\n",
                            "      <td>17.2</td>\n",
                            "      <td>199.0</td>\n",
                            "      <td>3750.0</td>\n",
                            "      <td>FEMALE</td>\n",
                            "    </tr>\n",
                            "  </tbody>\n",
                            "</table>\n",
                            "</div>"
                        ],
                        "text/plain": [
                            "       species     island  culmen_length_mm  culmen_depth_mm  \\\n",
                            "0       Adelie  Torgersen              39.1             18.7   \n",
                            "1       Adelie  Torgersen              39.5             17.4   \n",
                            "2       Adelie  Torgersen              40.3             18.0   \n",
                            "3       Adelie  Torgersen               NaN              NaN   \n",
                            "4       Adelie  Torgersen              36.7             19.3   \n",
                            "264     Gentoo     Biscoe              50.5             15.9   \n",
                            "283     Gentoo     Biscoe              54.3             15.7   \n",
                            "145     Adelie      Dream              39.0             18.7   \n",
                            "219  Chinstrap      Dream              50.2             18.7   \n",
                            "172  Chinstrap      Dream              42.4             17.3   \n",
                            "282     Gentoo     Biscoe              45.7             13.9   \n",
                            "3       Adelie  Torgersen               NaN              NaN   \n",
                            "69      Adelie  Torgersen              41.8             19.4   \n",
                            "202  Chinstrap      Dream              48.1             16.4   \n",
                            "106     Adelie     Biscoe              38.6             17.2   \n",
                            "\n",
                            "     flipper_length_mm  body_mass_g     sex  \n",
                            "0                181.0       3750.0    MALE  \n",
                            "1                186.0       3800.0  FEMALE  \n",
                            "2                195.0       3250.0  FEMALE  \n",
                            "3                  NaN          NaN     NaN  \n",
                            "4                193.0       3450.0  FEMALE  \n",
                            "264              222.0       5550.0    MALE  \n",
                            "283              231.0       5650.0    MALE  \n",
                            "145              185.0       3650.0    MALE  \n",
                            "219              198.0       3775.0  FEMALE  \n",
                            "172              181.0       3600.0  FEMALE  \n",
                            "282              214.0       4400.0  FEMALE  \n",
                            "3                  NaN          NaN     NaN  \n",
                            "69               198.0       4450.0    MALE  \n",
                            "202              199.0       3325.0  FEMALE  \n",
                            "106              199.0       3750.0  FEMALE  "
                        ]
                    },
                    "metadata": {},
                    "output_type": "display_data"
                }
            ],
            "source": [
                "# Your solution here ###########################################################\n",
                "\n",
                "display(pd.concat([penguins.head(5), penguins.sample(10)]))\n",
                "\n",
                "# ^^^^^^^^^^^^^^^^^^^^^^^^^^^^^^^^^^^^^^^^^^^^^^^^^^^^^^^^^^^^^^^^^^^^^^^^^^^^^^^"
            ]
        },
        {
            "cell_type": "markdown",
            "metadata": {},
            "source": [
                "**1.1.3** Look at the fourth entry: it is missing information, which is filled with `NaN` (not a number) values.\n",
                "Let's drop all rows with missing values, then display the first 10 rows."
            ]
        },
        {
            "cell_type": "code",
            "execution_count": 51,
            "metadata": {},
            "outputs": [
                {
                    "data": {
                        "text/html": [
                            "<div>\n",
                            "<style scoped>\n",
                            "    .dataframe tbody tr th:only-of-type {\n",
                            "        vertical-align: middle;\n",
                            "    }\n",
                            "\n",
                            "    .dataframe tbody tr th {\n",
                            "        vertical-align: top;\n",
                            "    }\n",
                            "\n",
                            "    .dataframe thead th {\n",
                            "        text-align: right;\n",
                            "    }\n",
                            "</style>\n",
                            "<table border=\"1\" class=\"dataframe\">\n",
                            "  <thead>\n",
                            "    <tr style=\"text-align: right;\">\n",
                            "      <th></th>\n",
                            "      <th>species</th>\n",
                            "      <th>island</th>\n",
                            "      <th>culmen_length_mm</th>\n",
                            "      <th>culmen_depth_mm</th>\n",
                            "      <th>flipper_length_mm</th>\n",
                            "      <th>body_mass_g</th>\n",
                            "      <th>sex</th>\n",
                            "    </tr>\n",
                            "  </thead>\n",
                            "  <tbody>\n",
                            "    <tr>\n",
                            "      <th>0</th>\n",
                            "      <td>Adelie</td>\n",
                            "      <td>Torgersen</td>\n",
                            "      <td>39.1</td>\n",
                            "      <td>18.7</td>\n",
                            "      <td>181.0</td>\n",
                            "      <td>3750.0</td>\n",
                            "      <td>MALE</td>\n",
                            "    </tr>\n",
                            "    <tr>\n",
                            "      <th>1</th>\n",
                            "      <td>Adelie</td>\n",
                            "      <td>Torgersen</td>\n",
                            "      <td>39.5</td>\n",
                            "      <td>17.4</td>\n",
                            "      <td>186.0</td>\n",
                            "      <td>3800.0</td>\n",
                            "      <td>FEMALE</td>\n",
                            "    </tr>\n",
                            "    <tr>\n",
                            "      <th>2</th>\n",
                            "      <td>Adelie</td>\n",
                            "      <td>Torgersen</td>\n",
                            "      <td>40.3</td>\n",
                            "      <td>18.0</td>\n",
                            "      <td>195.0</td>\n",
                            "      <td>3250.0</td>\n",
                            "      <td>FEMALE</td>\n",
                            "    </tr>\n",
                            "    <tr>\n",
                            "      <th>4</th>\n",
                            "      <td>Adelie</td>\n",
                            "      <td>Torgersen</td>\n",
                            "      <td>36.7</td>\n",
                            "      <td>19.3</td>\n",
                            "      <td>193.0</td>\n",
                            "      <td>3450.0</td>\n",
                            "      <td>FEMALE</td>\n",
                            "    </tr>\n",
                            "    <tr>\n",
                            "      <th>5</th>\n",
                            "      <td>Adelie</td>\n",
                            "      <td>Torgersen</td>\n",
                            "      <td>39.3</td>\n",
                            "      <td>20.6</td>\n",
                            "      <td>190.0</td>\n",
                            "      <td>3650.0</td>\n",
                            "      <td>MALE</td>\n",
                            "    </tr>\n",
                            "    <tr>\n",
                            "      <th>6</th>\n",
                            "      <td>Adelie</td>\n",
                            "      <td>Torgersen</td>\n",
                            "      <td>38.9</td>\n",
                            "      <td>17.8</td>\n",
                            "      <td>181.0</td>\n",
                            "      <td>3625.0</td>\n",
                            "      <td>FEMALE</td>\n",
                            "    </tr>\n",
                            "    <tr>\n",
                            "      <th>7</th>\n",
                            "      <td>Adelie</td>\n",
                            "      <td>Torgersen</td>\n",
                            "      <td>39.2</td>\n",
                            "      <td>19.6</td>\n",
                            "      <td>195.0</td>\n",
                            "      <td>4675.0</td>\n",
                            "      <td>MALE</td>\n",
                            "    </tr>\n",
                            "    <tr>\n",
                            "      <th>12</th>\n",
                            "      <td>Adelie</td>\n",
                            "      <td>Torgersen</td>\n",
                            "      <td>41.1</td>\n",
                            "      <td>17.6</td>\n",
                            "      <td>182.0</td>\n",
                            "      <td>3200.0</td>\n",
                            "      <td>FEMALE</td>\n",
                            "    </tr>\n",
                            "    <tr>\n",
                            "      <th>13</th>\n",
                            "      <td>Adelie</td>\n",
                            "      <td>Torgersen</td>\n",
                            "      <td>38.6</td>\n",
                            "      <td>21.2</td>\n",
                            "      <td>191.0</td>\n",
                            "      <td>3800.0</td>\n",
                            "      <td>MALE</td>\n",
                            "    </tr>\n",
                            "    <tr>\n",
                            "      <th>14</th>\n",
                            "      <td>Adelie</td>\n",
                            "      <td>Torgersen</td>\n",
                            "      <td>34.6</td>\n",
                            "      <td>21.1</td>\n",
                            "      <td>198.0</td>\n",
                            "      <td>4400.0</td>\n",
                            "      <td>MALE</td>\n",
                            "    </tr>\n",
                            "  </tbody>\n",
                            "</table>\n",
                            "</div>"
                        ],
                        "text/plain": [
                            "   species     island  culmen_length_mm  culmen_depth_mm  flipper_length_mm  \\\n",
                            "0   Adelie  Torgersen              39.1             18.7              181.0   \n",
                            "1   Adelie  Torgersen              39.5             17.4              186.0   \n",
                            "2   Adelie  Torgersen              40.3             18.0              195.0   \n",
                            "4   Adelie  Torgersen              36.7             19.3              193.0   \n",
                            "5   Adelie  Torgersen              39.3             20.6              190.0   \n",
                            "6   Adelie  Torgersen              38.9             17.8              181.0   \n",
                            "7   Adelie  Torgersen              39.2             19.6              195.0   \n",
                            "12  Adelie  Torgersen              41.1             17.6              182.0   \n",
                            "13  Adelie  Torgersen              38.6             21.2              191.0   \n",
                            "14  Adelie  Torgersen              34.6             21.1              198.0   \n",
                            "\n",
                            "    body_mass_g     sex  \n",
                            "0        3750.0    MALE  \n",
                            "1        3800.0  FEMALE  \n",
                            "2        3250.0  FEMALE  \n",
                            "4        3450.0  FEMALE  \n",
                            "5        3650.0    MALE  \n",
                            "6        3625.0  FEMALE  \n",
                            "7        4675.0    MALE  \n",
                            "12       3200.0  FEMALE  \n",
                            "13       3800.0    MALE  \n",
                            "14       4400.0    MALE  "
                        ]
                    },
                    "execution_count": 51,
                    "metadata": {},
                    "output_type": "execute_result"
                }
            ],
            "source": [
                "# Your solution here ###########################################################\n",
                "\n",
                "penguins.dropna(inplace=True)\n",
                "penguins.head(10)\n",
                "\n",
                "# ^^^^^^^^^^^^^^^^^^^^^^^^^^^^^^^^^^^^^^^^^^^^^^^^^^^^^^^^^^^^^^^^^^^^^^^^^^^^^^^"
            ]
        },
        {
            "cell_type": "markdown",
            "metadata": {},
            "source": [
                "**1.1.4** Compute and display the mean and std of `culmen_length_mm` and `body_mass_g`."
            ]
        },
        {
            "cell_type": "code",
            "execution_count": 52,
            "metadata": {},
            "outputs": [
                {
                    "name": "stdout",
                    "output_type": "stream",
                    "text": [
                        "Mean values:\n"
                    ]
                },
                {
                    "data": {
                        "text/plain": [
                            "culmen_length_mm      43.994311\n",
                            "body_mass_g         4209.056886\n",
                            "dtype: float64"
                        ]
                    },
                    "metadata": {},
                    "output_type": "display_data"
                },
                {
                    "name": "stdout",
                    "output_type": "stream",
                    "text": [
                        "Standard deviation:\n"
                    ]
                },
                {
                    "data": {
                        "text/plain": [
                            "culmen_length_mm      5.460521\n",
                            "body_mass_g         804.836129\n",
                            "dtype: float64"
                        ]
                    },
                    "metadata": {},
                    "output_type": "display_data"
                }
            ],
            "source": [
                "# Your solution here ###########################################################\n",
                "\n",
                "print(\"Mean values:\")\n",
                "display(penguins[[\"culmen_length_mm\", \"body_mass_g\"]].mean())\n",
                "\n",
                "print(\"Standard deviation:\")\n",
                "display(penguins[[\"culmen_length_mm\", \"body_mass_g\"]].std())\n",
                "\n",
                "# ^^^^^^^^^^^^^^^^^^^^^^^^^^^^^^^^^^^^^^^^^^^^^^^^^^^^^^^^^^^^^^^^^^^^^^^^^^^^^^^"
            ]
        },
        {
            "cell_type": "markdown",
            "metadata": {},
            "source": [
                "**1.1.5** Examine statistics of all columns with the `describe` method."
            ]
        },
        {
            "cell_type": "code",
            "execution_count": 93,
            "metadata": {},
            "outputs": [
                {
                    "data": {
                        "text/html": [
                            "<div>\n",
                            "<style scoped>\n",
                            "    .dataframe tbody tr th:only-of-type {\n",
                            "        vertical-align: middle;\n",
                            "    }\n",
                            "\n",
                            "    .dataframe tbody tr th {\n",
                            "        vertical-align: top;\n",
                            "    }\n",
                            "\n",
                            "    .dataframe thead th {\n",
                            "        text-align: right;\n",
                            "    }\n",
                            "</style>\n",
                            "<table border=\"1\" class=\"dataframe\">\n",
                            "  <thead>\n",
                            "    <tr style=\"text-align: right;\">\n",
                            "      <th></th>\n",
                            "      <th>culmen_length_mm</th>\n",
                            "      <th>culmen_depth_mm</th>\n",
                            "      <th>flipper_length_mm</th>\n",
                            "      <th>body_mass_g</th>\n",
                            "    </tr>\n",
                            "  </thead>\n",
                            "  <tbody>\n",
                            "    <tr>\n",
                            "      <th>count</th>\n",
                            "      <td>333.000000</td>\n",
                            "      <td>333.000000</td>\n",
                            "      <td>333.000000</td>\n",
                            "      <td>333.000000</td>\n",
                            "    </tr>\n",
                            "    <tr>\n",
                            "      <th>mean</th>\n",
                            "      <td>43.992793</td>\n",
                            "      <td>17.164865</td>\n",
                            "      <td>200.966967</td>\n",
                            "      <td>4207.057057</td>\n",
                            "    </tr>\n",
                            "    <tr>\n",
                            "      <th>std</th>\n",
                            "      <td>5.468668</td>\n",
                            "      <td>1.969235</td>\n",
                            "      <td>14.015765</td>\n",
                            "      <td>805.215802</td>\n",
                            "    </tr>\n",
                            "    <tr>\n",
                            "      <th>min</th>\n",
                            "      <td>32.100000</td>\n",
                            "      <td>13.100000</td>\n",
                            "      <td>172.000000</td>\n",
                            "      <td>2700.000000</td>\n",
                            "    </tr>\n",
                            "    <tr>\n",
                            "      <th>25%</th>\n",
                            "      <td>39.500000</td>\n",
                            "      <td>15.600000</td>\n",
                            "      <td>190.000000</td>\n",
                            "      <td>3550.000000</td>\n",
                            "    </tr>\n",
                            "    <tr>\n",
                            "      <th>50%</th>\n",
                            "      <td>44.500000</td>\n",
                            "      <td>17.300000</td>\n",
                            "      <td>197.000000</td>\n",
                            "      <td>4050.000000</td>\n",
                            "    </tr>\n",
                            "    <tr>\n",
                            "      <th>75%</th>\n",
                            "      <td>48.600000</td>\n",
                            "      <td>18.700000</td>\n",
                            "      <td>213.000000</td>\n",
                            "      <td>4775.000000</td>\n",
                            "    </tr>\n",
                            "    <tr>\n",
                            "      <th>max</th>\n",
                            "      <td>59.600000</td>\n",
                            "      <td>21.500000</td>\n",
                            "      <td>231.000000</td>\n",
                            "      <td>6300.000000</td>\n",
                            "    </tr>\n",
                            "  </tbody>\n",
                            "</table>\n",
                            "</div>"
                        ],
                        "text/plain": [
                            "       culmen_length_mm  culmen_depth_mm  flipper_length_mm  body_mass_g\n",
                            "count        333.000000       333.000000         333.000000   333.000000\n",
                            "mean          43.992793        17.164865         200.966967  4207.057057\n",
                            "std            5.468668         1.969235          14.015765   805.215802\n",
                            "min           32.100000        13.100000         172.000000  2700.000000\n",
                            "25%           39.500000        15.600000         190.000000  3550.000000\n",
                            "50%           44.500000        17.300000         197.000000  4050.000000\n",
                            "75%           48.600000        18.700000         213.000000  4775.000000\n",
                            "max           59.600000        21.500000         231.000000  6300.000000"
                        ]
                    },
                    "metadata": {},
                    "output_type": "display_data"
                }
            ],
            "source": [
                "# Your solution here ###########################################################\n",
                "display(penguins.describe())\n",
                "# ^^^^^^^^^^^^^^^^^^^^^^^^^^^^^^^^^^^^^^^^^^^^^^^^^^^^^^^^^^^^^^^^^^^^^^^^^^^^^^^"
            ]
        },
        {
            "cell_type": "markdown",
            "metadata": {},
            "source": [
                "**1.1.6** Plot a histogram of `body_mass_g`, split by `sex`."
            ]
        },
        {
            "cell_type": "code",
            "execution_count": 54,
            "metadata": {},
            "outputs": [
                {
                    "data": {
                        "image/png": "[encoded data removed]",
                        "text/plain": [
                            "<Figure size 640x480 with 4 Axes>"
                        ]
                    },
                    "metadata": {},
                    "output_type": "display_data"
                }
            ],
            "source": [
                "# Your solution here ###########################################################\n",
                "\n",
                "penguins.hist(column=\"body_mass_g\", by=\"sex\")\n",
                "\n",
                "# ^^^^^^^^^^^^^^^^^^^^^^^^^^^^^^^^^^^^^^^^^^^^^^^^^^^^^^^^^^^^^^^^^^^^^^^^^^^^^^^\n",
                "plt.show()"
            ]
        },
        {
            "cell_type": "markdown",
            "metadata": {},
            "source": [
                "**1.1.7** The [seaborn](https://seaborn.pydata.org/tutorial.html) library provides nicer visualization functionalities. Let's produce the same histogram with it."
            ]
        },
        {
            "cell_type": "code",
            "execution_count": 55,
            "metadata": {},
            "outputs": [
                {
                    "data": {
                        "image/png": "[encoded data removed]",
                        "text/plain": [
                            "<Figure size 640x480 with 1 Axes>"
                        ]
                    },
                    "metadata": {},
                    "output_type": "display_data"
                }
            ],
            "source": [
                "# Your solution here ###########################################################\n",
                "\n",
                "sns.histplot(data=penguins, x=\"flipper_length_mm\", hue=\"sex\")\n",
                "\n",
                "# ^^^^^^^^^^^^^^^^^^^^^^^^^^^^^^^^^^^^^^^^^^^^^^^^^^^^^^^^^^^^^^^^^^^^^^^^^^^^^^^\n",
                "plt.show()"
            ]
        },
        {
            "cell_type": "markdown",
            "metadata": {},
            "source": [
                "## Question 1.2: indexing and manipulation"
            ]
        },
        {
            "cell_type": "markdown",
            "metadata": {},
            "source": [
                "**1.2.1** Use the `loc` property to remove penguins without sex."
            ]
        },
        {
            "cell_type": "code",
            "execution_count": 56,
            "metadata": {},
            "outputs": [
                {
                    "data": {
                        "text/html": [
                            "<div>\n",
                            "<style scoped>\n",
                            "    .dataframe tbody tr th:only-of-type {\n",
                            "        vertical-align: middle;\n",
                            "    }\n",
                            "\n",
                            "    .dataframe tbody tr th {\n",
                            "        vertical-align: top;\n",
                            "    }\n",
                            "\n",
                            "    .dataframe thead th {\n",
                            "        text-align: right;\n",
                            "    }\n",
                            "</style>\n",
                            "<table border=\"1\" class=\"dataframe\">\n",
                            "  <thead>\n",
                            "    <tr style=\"text-align: right;\">\n",
                            "      <th></th>\n",
                            "      <th>species</th>\n",
                            "      <th>island</th>\n",
                            "      <th>culmen_length_mm</th>\n",
                            "      <th>culmen_depth_mm</th>\n",
                            "      <th>flipper_length_mm</th>\n",
                            "      <th>body_mass_g</th>\n",
                            "      <th>sex</th>\n",
                            "    </tr>\n",
                            "  </thead>\n",
                            "  <tbody>\n",
                            "    <tr>\n",
                            "      <th>13</th>\n",
                            "      <td>Adelie</td>\n",
                            "      <td>Torgersen</td>\n",
                            "      <td>38.6</td>\n",
                            "      <td>21.2</td>\n",
                            "      <td>191.0</td>\n",
                            "      <td>3800.0</td>\n",
                            "      <td>MALE</td>\n",
                            "    </tr>\n",
                            "    <tr>\n",
                            "      <th>26</th>\n",
                            "      <td>Adelie</td>\n",
                            "      <td>Biscoe</td>\n",
                            "      <td>40.6</td>\n",
                            "      <td>18.6</td>\n",
                            "      <td>183.0</td>\n",
                            "      <td>3550.0</td>\n",
                            "      <td>MALE</td>\n",
                            "    </tr>\n",
                            "    <tr>\n",
                            "      <th>39</th>\n",
                            "      <td>Adelie</td>\n",
                            "      <td>Dream</td>\n",
                            "      <td>39.8</td>\n",
                            "      <td>19.1</td>\n",
                            "      <td>184.0</td>\n",
                            "      <td>4650.0</td>\n",
                            "      <td>MALE</td>\n",
                            "    </tr>\n",
                            "    <tr>\n",
                            "      <th>52</th>\n",
                            "      <td>Adelie</td>\n",
                            "      <td>Biscoe</td>\n",
                            "      <td>35.0</td>\n",
                            "      <td>17.9</td>\n",
                            "      <td>190.0</td>\n",
                            "      <td>3450.0</td>\n",
                            "      <td>FEMALE</td>\n",
                            "    </tr>\n",
                            "  </tbody>\n",
                            "</table>\n",
                            "</div>"
                        ],
                        "text/plain": [
                            "   species     island  culmen_length_mm  culmen_depth_mm  flipper_length_mm  \\\n",
                            "13  Adelie  Torgersen              38.6             21.2              191.0   \n",
                            "26  Adelie     Biscoe              40.6             18.6              183.0   \n",
                            "39  Adelie      Dream              39.8             19.1              184.0   \n",
                            "52  Adelie     Biscoe              35.0             17.9              190.0   \n",
                            "\n",
                            "    body_mass_g     sex  \n",
                            "13       3800.0    MALE  \n",
                            "26       3550.0    MALE  \n",
                            "39       4650.0    MALE  \n",
                            "52       3450.0  FEMALE  "
                        ]
                    },
                    "execution_count": 56,
                    "metadata": {},
                    "output_type": "execute_result"
                }
            ],
            "source": [
                "# Your solution here ###########################################################\n",
                "\n",
                "penguins = penguins.loc[penguins[\"sex\"] != \".\"]\n",
                "# ^^^^^^^^^^^^^^^^^^^^^^^^^^^^^^^^^^^^^^^^^^^^^^^^^^^^^^^^^^^^^^^^^^^^^^^^^^^^^^^\n",
                "penguins.loc[[13, 26, 39, 52]]"
            ]
        },
        {
            "cell_type": "markdown",
            "metadata": {},
            "source": [
                "**1.2.2** Make `sex` a boolean property, with value `True` for `\"FEMALE\"` and `False` for `\"MALE\"`."
            ]
        },
        {
            "cell_type": "code",
            "execution_count": 57,
            "metadata": {},
            "outputs": [
                {
                    "data": {
                        "text/html": [
                            "<div>\n",
                            "<style scoped>\n",
                            "    .dataframe tbody tr th:only-of-type {\n",
                            "        vertical-align: middle;\n",
                            "    }\n",
                            "\n",
                            "    .dataframe tbody tr th {\n",
                            "        vertical-align: top;\n",
                            "    }\n",
                            "\n",
                            "    .dataframe thead th {\n",
                            "        text-align: right;\n",
                            "    }\n",
                            "</style>\n",
                            "<table border=\"1\" class=\"dataframe\">\n",
                            "  <thead>\n",
                            "    <tr style=\"text-align: right;\">\n",
                            "      <th></th>\n",
                            "      <th>species</th>\n",
                            "      <th>island</th>\n",
                            "      <th>culmen_length_mm</th>\n",
                            "      <th>culmen_depth_mm</th>\n",
                            "      <th>flipper_length_mm</th>\n",
                            "      <th>body_mass_g</th>\n",
                            "      <th>sex</th>\n",
                            "    </tr>\n",
                            "  </thead>\n",
                            "  <tbody>\n",
                            "    <tr>\n",
                            "      <th>13</th>\n",
                            "      <td>Adelie</td>\n",
                            "      <td>Torgersen</td>\n",
                            "      <td>38.6</td>\n",
                            "      <td>21.2</td>\n",
                            "      <td>191.0</td>\n",
                            "      <td>3800.0</td>\n",
                            "      <td>False</td>\n",
                            "    </tr>\n",
                            "    <tr>\n",
                            "      <th>26</th>\n",
                            "      <td>Adelie</td>\n",
                            "      <td>Biscoe</td>\n",
                            "      <td>40.6</td>\n",
                            "      <td>18.6</td>\n",
                            "      <td>183.0</td>\n",
                            "      <td>3550.0</td>\n",
                            "      <td>False</td>\n",
                            "    </tr>\n",
                            "    <tr>\n",
                            "      <th>39</th>\n",
                            "      <td>Adelie</td>\n",
                            "      <td>Dream</td>\n",
                            "      <td>39.8</td>\n",
                            "      <td>19.1</td>\n",
                            "      <td>184.0</td>\n",
                            "      <td>4650.0</td>\n",
                            "      <td>False</td>\n",
                            "    </tr>\n",
                            "    <tr>\n",
                            "      <th>52</th>\n",
                            "      <td>Adelie</td>\n",
                            "      <td>Biscoe</td>\n",
                            "      <td>35.0</td>\n",
                            "      <td>17.9</td>\n",
                            "      <td>190.0</td>\n",
                            "      <td>3450.0</td>\n",
                            "      <td>True</td>\n",
                            "    </tr>\n",
                            "  </tbody>\n",
                            "</table>\n",
                            "</div>"
                        ],
                        "text/plain": [
                            "   species     island  culmen_length_mm  culmen_depth_mm  flipper_length_mm  \\\n",
                            "13  Adelie  Torgersen              38.6             21.2              191.0   \n",
                            "26  Adelie     Biscoe              40.6             18.6              183.0   \n",
                            "39  Adelie      Dream              39.8             19.1              184.0   \n",
                            "52  Adelie     Biscoe              35.0             17.9              190.0   \n",
                            "\n",
                            "    body_mass_g    sex  \n",
                            "13       3800.0  False  \n",
                            "26       3550.0  False  \n",
                            "39       4650.0  False  \n",
                            "52       3450.0   True  "
                        ]
                    },
                    "execution_count": 57,
                    "metadata": {},
                    "output_type": "execute_result"
                }
            ],
            "source": [
                "# Your solution here ###########################################################\n",
                "penguins[\"sex\"] = penguins[\"sex\"] == \"FEMALE\"\n",
                "# ^^^^^^^^^^^^^^^^^^^^^^^^^^^^^^^^^^^^^^^^^^^^^^^^^^^^^^^^^^^^^^^^^^^^^^^^^^^^^^^\n",
                "penguins.loc[[13, 26, 39, 52]]"
            ]
        },
        {
            "cell_type": "markdown",
            "metadata": {},
            "source": [
                "**1.2.3** In the next questions we will encode numerically the `island` and `species` property. Let's start by identifying the island's and species names."
            ]
        },
        {
            "cell_type": "code",
            "execution_count": 58,
            "metadata": {},
            "outputs": [
                {
                    "name": "stdout",
                    "output_type": "stream",
                    "text": [
                        "islands: ['Torgersen' 'Biscoe' 'Dream']\n",
                        "species: ['Adelie' 'Chinstrap' 'Gentoo']\n"
                    ]
                }
            ],
            "source": [
                "# Your solution here ###########################################################\n",
                "islands: list[str] = penguins[\"island\"].unique()\n",
                "species: list[str] = penguins[\"species\"].unique()\n",
                "# ^^^^^^^^^^^^^^^^^^^^^^^^^^^^^^^^^^^^^^^^^^^^^^^^^^^^^^^^^^^^^^^^^^^^^^^^^^^^^^^\n",
                "print(\"islands:\", islands)\n",
                "print(\"species:\", species)"
            ]
        },
        {
            "cell_type": "markdown",
            "metadata": {},
            "source": [
                "**1.2.4** For each island and species, add a column with boolean value, indicating whether the penguin comes from said island, or belong to said species."
            ]
        },
        {
            "cell_type": "code",
            "execution_count": 59,
            "metadata": {},
            "outputs": [
                {
                    "data": {
                        "text/html": [
                            "<div>\n",
                            "<style scoped>\n",
                            "    .dataframe tbody tr th:only-of-type {\n",
                            "        vertical-align: middle;\n",
                            "    }\n",
                            "\n",
                            "    .dataframe tbody tr th {\n",
                            "        vertical-align: top;\n",
                            "    }\n",
                            "\n",
                            "    .dataframe thead th {\n",
                            "        text-align: right;\n",
                            "    }\n",
                            "</style>\n",
                            "<table border=\"1\" class=\"dataframe\">\n",
                            "  <thead>\n",
                            "    <tr style=\"text-align: right;\">\n",
                            "      <th></th>\n",
                            "      <th>species</th>\n",
                            "      <th>island</th>\n",
                            "      <th>culmen_length_mm</th>\n",
                            "      <th>culmen_depth_mm</th>\n",
                            "      <th>flipper_length_mm</th>\n",
                            "      <th>body_mass_g</th>\n",
                            "      <th>sex</th>\n",
                            "      <th>Torgersen</th>\n",
                            "      <th>Biscoe</th>\n",
                            "      <th>Dream</th>\n",
                            "      <th>Adelie</th>\n",
                            "      <th>Chinstrap</th>\n",
                            "      <th>Gentoo</th>\n",
                            "    </tr>\n",
                            "  </thead>\n",
                            "  <tbody>\n",
                            "    <tr>\n",
                            "      <th>13</th>\n",
                            "      <td>Adelie</td>\n",
                            "      <td>Torgersen</td>\n",
                            "      <td>38.6</td>\n",
                            "      <td>21.2</td>\n",
                            "      <td>191.0</td>\n",
                            "      <td>3800.0</td>\n",
                            "      <td>False</td>\n",
                            "      <td>True</td>\n",
                            "      <td>False</td>\n",
                            "      <td>False</td>\n",
                            "      <td>True</td>\n",
                            "      <td>False</td>\n",
                            "      <td>False</td>\n",
                            "    </tr>\n",
                            "    <tr>\n",
                            "      <th>26</th>\n",
                            "      <td>Adelie</td>\n",
                            "      <td>Biscoe</td>\n",
                            "      <td>40.6</td>\n",
                            "      <td>18.6</td>\n",
                            "      <td>183.0</td>\n",
                            "      <td>3550.0</td>\n",
                            "      <td>False</td>\n",
                            "      <td>False</td>\n",
                            "      <td>True</td>\n",
                            "      <td>False</td>\n",
                            "      <td>True</td>\n",
                            "      <td>False</td>\n",
                            "      <td>False</td>\n",
                            "    </tr>\n",
                            "    <tr>\n",
                            "      <th>39</th>\n",
                            "      <td>Adelie</td>\n",
                            "      <td>Dream</td>\n",
                            "      <td>39.8</td>\n",
                            "      <td>19.1</td>\n",
                            "      <td>184.0</td>\n",
                            "      <td>4650.0</td>\n",
                            "      <td>False</td>\n",
                            "      <td>False</td>\n",
                            "      <td>False</td>\n",
                            "      <td>True</td>\n",
                            "      <td>True</td>\n",
                            "      <td>False</td>\n",
                            "      <td>False</td>\n",
                            "    </tr>\n",
                            "    <tr>\n",
                            "      <th>52</th>\n",
                            "      <td>Adelie</td>\n",
                            "      <td>Biscoe</td>\n",
                            "      <td>35.0</td>\n",
                            "      <td>17.9</td>\n",
                            "      <td>190.0</td>\n",
                            "      <td>3450.0</td>\n",
                            "      <td>True</td>\n",
                            "      <td>False</td>\n",
                            "      <td>True</td>\n",
                            "      <td>False</td>\n",
                            "      <td>True</td>\n",
                            "      <td>False</td>\n",
                            "      <td>False</td>\n",
                            "    </tr>\n",
                            "  </tbody>\n",
                            "</table>\n",
                            "</div>"
                        ],
                        "text/plain": [
                            "   species     island  culmen_length_mm  culmen_depth_mm  flipper_length_mm  \\\n",
                            "13  Adelie  Torgersen              38.6             21.2              191.0   \n",
                            "26  Adelie     Biscoe              40.6             18.6              183.0   \n",
                            "39  Adelie      Dream              39.8             19.1              184.0   \n",
                            "52  Adelie     Biscoe              35.0             17.9              190.0   \n",
                            "\n",
                            "    body_mass_g    sex  Torgersen  Biscoe  Dream  Adelie  Chinstrap  Gentoo  \n",
                            "13       3800.0  False       True   False  False    True      False   False  \n",
                            "26       3550.0  False      False    True  False    True      False   False  \n",
                            "39       4650.0  False      False   False   True    True      False   False  \n",
                            "52       3450.0   True      False    True  False    True      False   False  "
                        ]
                    },
                    "metadata": {},
                    "output_type": "display_data"
                }
            ],
            "source": [
                "# Your solution here ###########################################################\n",
                "for island_name in islands:\n",
                "    penguins[island_name] = penguins[\"island\"] == island_name\n",
                "\n",
                "for specie in species:\n",
                "    penguins[specie] = penguins[\"species\"] == specie\n",
                "# ^^^^^^^^^^^^^^^^^^^^^^^^^^^^^^^^^^^^^^^^^^^^^^^^^^^^^^^^^^^^^^^^^^^^^^^^^^^^^^^\n",
                "display(penguins.loc[[13, 26, 39, 52]])"
            ]
        },
        {
            "cell_type": "markdown",
            "metadata": {},
            "source": [
                "**1.2.5** In some case, we might want to encode species as integers.\n",
                "Use the `map` method and a dictionary mapping species to numbers to get a `y_species` vector."
            ]
        },
        {
            "cell_type": "code",
            "execution_count": 60,
            "metadata": {},
            "outputs": [
                {
                    "data": {
                        "text/plain": [
                            "0      0\n",
                            "1      0\n",
                            "2      0\n",
                            "4      0\n",
                            "5      0\n",
                            "      ..\n",
                            "338    2\n",
                            "340    2\n",
                            "341    2\n",
                            "342    2\n",
                            "343    2\n",
                            "Name: species, Length: 333, dtype: int64"
                        ]
                    },
                    "execution_count": 60,
                    "metadata": {},
                    "output_type": "execute_result"
                }
            ],
            "source": [
                "# Your solution here ###########################################################\n",
                "y_species: pd.Series = penguins[\"species\"].map(dict(zip(species, range(len(species)))))\n",
                "# ^^^^^^^^^^^^^^^^^^^^^^^^^^^^^^^^^^^^^^^^^^^^^^^^^^^^^^^^^^^^^^^^^^^^^^^^^^^^^^^\n",
                "y_species"
            ]
        },
        {
            "cell_type": "markdown",
            "metadata": {},
            "source": [
                "**1.2.6** Drop the `island` and `species` columns, since they are not needed anymore."
            ]
        },
        {
            "cell_type": "code",
            "execution_count": 61,
            "metadata": {},
            "outputs": [
                {
                    "data": {
                        "text/html": [
                            "<div>\n",
                            "<style scoped>\n",
                            "    .dataframe tbody tr th:only-of-type {\n",
                            "        vertical-align: middle;\n",
                            "    }\n",
                            "\n",
                            "    .dataframe tbody tr th {\n",
                            "        vertical-align: top;\n",
                            "    }\n",
                            "\n",
                            "    .dataframe thead th {\n",
                            "        text-align: right;\n",
                            "    }\n",
                            "</style>\n",
                            "<table border=\"1\" class=\"dataframe\">\n",
                            "  <thead>\n",
                            "    <tr style=\"text-align: right;\">\n",
                            "      <th></th>\n",
                            "      <th>culmen_length_mm</th>\n",
                            "      <th>culmen_depth_mm</th>\n",
                            "      <th>flipper_length_mm</th>\n",
                            "      <th>body_mass_g</th>\n",
                            "      <th>sex</th>\n",
                            "      <th>Torgersen</th>\n",
                            "      <th>Biscoe</th>\n",
                            "      <th>Dream</th>\n",
                            "      <th>Adelie</th>\n",
                            "      <th>Chinstrap</th>\n",
                            "      <th>Gentoo</th>\n",
                            "    </tr>\n",
                            "  </thead>\n",
                            "  <tbody>\n",
                            "    <tr>\n",
                            "      <th>13</th>\n",
                            "      <td>38.6</td>\n",
                            "      <td>21.2</td>\n",
                            "      <td>191.0</td>\n",
                            "      <td>3800.0</td>\n",
                            "      <td>False</td>\n",
                            "      <td>True</td>\n",
                            "      <td>False</td>\n",
                            "      <td>False</td>\n",
                            "      <td>True</td>\n",
                            "      <td>False</td>\n",
                            "      <td>False</td>\n",
                            "    </tr>\n",
                            "    <tr>\n",
                            "      <th>26</th>\n",
                            "      <td>40.6</td>\n",
                            "      <td>18.6</td>\n",
                            "      <td>183.0</td>\n",
                            "      <td>3550.0</td>\n",
                            "      <td>False</td>\n",
                            "      <td>False</td>\n",
                            "      <td>True</td>\n",
                            "      <td>False</td>\n",
                            "      <td>True</td>\n",
                            "      <td>False</td>\n",
                            "      <td>False</td>\n",
                            "    </tr>\n",
                            "    <tr>\n",
                            "      <th>39</th>\n",
                            "      <td>39.8</td>\n",
                            "      <td>19.1</td>\n",
                            "      <td>184.0</td>\n",
                            "      <td>4650.0</td>\n",
                            "      <td>False</td>\n",
                            "      <td>False</td>\n",
                            "      <td>False</td>\n",
                            "      <td>True</td>\n",
                            "      <td>True</td>\n",
                            "      <td>False</td>\n",
                            "      <td>False</td>\n",
                            "    </tr>\n",
                            "    <tr>\n",
                            "      <th>52</th>\n",
                            "      <td>35.0</td>\n",
                            "      <td>17.9</td>\n",
                            "      <td>190.0</td>\n",
                            "      <td>3450.0</td>\n",
                            "      <td>True</td>\n",
                            "      <td>False</td>\n",
                            "      <td>True</td>\n",
                            "      <td>False</td>\n",
                            "      <td>True</td>\n",
                            "      <td>False</td>\n",
                            "      <td>False</td>\n",
                            "    </tr>\n",
                            "  </tbody>\n",
                            "</table>\n",
                            "</div>"
                        ],
                        "text/plain": [
                            "    culmen_length_mm  culmen_depth_mm  flipper_length_mm  body_mass_g    sex  \\\n",
                            "13              38.6             21.2              191.0       3800.0  False   \n",
                            "26              40.6             18.6              183.0       3550.0  False   \n",
                            "39              39.8             19.1              184.0       4650.0  False   \n",
                            "52              35.0             17.9              190.0       3450.0   True   \n",
                            "\n",
                            "    Torgersen  Biscoe  Dream  Adelie  Chinstrap  Gentoo  \n",
                            "13       True   False  False    True      False   False  \n",
                            "26      False    True  False    True      False   False  \n",
                            "39      False   False   True    True      False   False  \n",
                            "52      False    True  False    True      False   False  "
                        ]
                    },
                    "metadata": {},
                    "output_type": "display_data"
                }
            ],
            "source": [
                "# Your solution here ###########################################################\n",
                "penguins.drop(columns=[\"species\", \"island\"], inplace=True)\n",
                "# ^^^^^^^^^^^^^^^^^^^^^^^^^^^^^^^^^^^^^^^^^^^^^^^^^^^^^^^^^^^^^^^^^^^^^^^^^^^^^^^\n",
                "display(penguins.loc[[13, 26, 39, 52]])"
            ]
        },
        {
            "cell_type": "markdown",
            "metadata": {},
            "source": [
                "## Part 2: NumPy, scientific computing in Python\n",
                "\n",
                "NumPy allows manipulating vectors, matrices and higher order tensors as `arrays`. For instance vectors are 1d arrays, and matrices have two dimensions (rows and columns)."
            ]
        },
        {
            "cell_type": "code",
            "execution_count": 63,
            "metadata": {},
            "outputs": [],
            "source": [
                "import numpy as np"
            ]
        },
        {
            "cell_type": "markdown",
            "metadata": {},
            "source": [
                "**2.1.1** Pandas is built on top of NumPy. We can access the underlying array though the `values` attribute of a DataFrame. Let's put all but the `body_mass_g` columns in the *design matrix* `x`, and the y_mass one in the *target vector* `y_mass`."
            ]
        },
        {
            "cell_type": "code",
            "execution_count": 64,
            "metadata": {},
            "outputs": [],
            "source": [
                "# Your solution here ###########################################################\n",
                "x: np.ndarray = penguins.drop(columns=\"body_mass_g\").values\n",
                "y_mass: np.ndarray = penguins[\"body_mass_g\"].values\n",
                "# ^^^^^^^^^^^^^^^^^^^^^^^^^^^^^^^^^^^^^^^^^^^^^^^^^^^^^^^^^^^^^^^^^^^^^^^^^^^^^^^"
            ]
        },
        {
            "cell_type": "markdown",
            "metadata": {},
            "source": [
                "**2.1.2** Let's inspect the `shape` of these two arrays."
            ]
        },
        {
            "cell_type": "code",
            "execution_count": 65,
            "metadata": {},
            "outputs": [
                {
                    "name": "stdout",
                    "output_type": "stream",
                    "text": [
                        "x shape: (333, 10)\n",
                        "y shape: (333,)\n"
                    ]
                }
            ],
            "source": [
                "# Your solution here ###########################################################\n",
                "print(\"x shape:\", x.shape)\n",
                "print(\"y shape:\", y_mass.shape)\n",
                "# ^^^^^^^^^^^^^^^^^^^^^^^^^^^^^^^^^^^^^^^^^^^^^^^^^^^^^^^^^^^^^^^^^^^^^^^^^^^^^^^"
            ]
        },
        {
            "cell_type": "markdown",
            "metadata": {},
            "source": [
                "**2.1.3** Then let's check the first five rows of `x`."
            ]
        },
        {
            "cell_type": "code",
            "execution_count": 66,
            "metadata": {},
            "outputs": [
                {
                    "data": {
                        "text/plain": [
                            "array([[39.1, 18.7, 181.0, False, True, False, False, True, False, False],\n",
                            "       [39.5, 17.4, 186.0, True, True, False, False, True, False, False],\n",
                            "       [40.3, 18.0, 195.0, True, True, False, False, True, False, False],\n",
                            "       [36.7, 19.3, 193.0, True, True, False, False, True, False, False],\n",
                            "       [39.3, 20.6, 190.0, False, True, False, False, True, False, False]],\n",
                            "      dtype=object)"
                        ]
                    },
                    "execution_count": 66,
                    "metadata": {},
                    "output_type": "execute_result"
                }
            ],
            "source": [
                "# Your solution here ###########################################################\n",
                "x[:5]\n",
                "# ^^^^^^^^^^^^^^^^^^^^^^^^^^^^^^^^^^^^^^^^^^^^^^^^^^^^^^^^^^^^^^^^^^^^^^^^^^^^^^^"
            ]
        },
        {
            "cell_type": "markdown",
            "metadata": {},
            "source": [
                "**2.1.4** Notice that the `dtype` of `x` is `object`, which means that it contains multiple types. Let's convert it to `float` and check the first rows again."
            ]
        },
        {
            "cell_type": "code",
            "execution_count": 67,
            "metadata": {},
            "outputs": [
                {
                    "data": {
                        "text/plain": [
                            "array([[ 39.1,  18.7, 181. ,   0. ,   1. ,   0. ,   0. ,   1. ,   0. ,\n",
                            "          0. ],\n",
                            "       [ 39.5,  17.4, 186. ,   1. ,   1. ,   0. ,   0. ,   1. ,   0. ,\n",
                            "          0. ],\n",
                            "       [ 40.3,  18. , 195. ,   1. ,   1. ,   0. ,   0. ,   1. ,   0. ,\n",
                            "          0. ],\n",
                            "       [ 36.7,  19.3, 193. ,   1. ,   1. ,   0. ,   0. ,   1. ,   0. ,\n",
                            "          0. ],\n",
                            "       [ 39.3,  20.6, 190. ,   0. ,   1. ,   0. ,   0. ,   1. ,   0. ,\n",
                            "          0. ]])"
                        ]
                    },
                    "execution_count": 67,
                    "metadata": {},
                    "output_type": "execute_result"
                }
            ],
            "source": [
                "# Your solution here ###########################################################\n",
                "x = x.astype(float)\n",
                "x[:5]\n",
                "# ^^^^^^^^^^^^^^^^^^^^^^^^^^^^^^^^^^^^^^^^^^^^^^^^^^^^^^^^^^^^^^^^^^^^^^^^^^^^^^^"
            ]
        },
        {
            "cell_type": "markdown",
            "metadata": {},
            "source": [
                "### Question 2.2: Arrays manipulation\n"
            ]
        },
        {
            "cell_type": "markdown",
            "metadata": {},
            "source": [
                "**2.2.1** Extract the values of `Dream` and `Gentoo` columns into two vectors. Convert them to boolean."
            ]
        },
        {
            "cell_type": "code",
            "execution_count": 68,
            "metadata": {},
            "outputs": [],
            "source": [
                "dream: np.ndarray\n",
                "gentoo: np.ndarray\n",
                "# Your solution here ###########################################################\n",
                "dream, gentoo = penguins[[\"Dream\", \"Gentoo\"]].values.astype(bool).T\n",
                "# ^^^^^^^^^^^^^^^^^^^^^^^^^^^^^^^^^^^^^^^^^^^^^^^^^^^^^^^^^^^^^^^^^^^^^^^^^^^^^^^"
            ]
        },
        {
            "cell_type": "markdown",
            "metadata": {},
            "source": [
                "**2.2.2** Count how many penguins come from the Dream island using the `sum` method. Repeat for the Gentoo specie."
            ]
        },
        {
            "cell_type": "code",
            "execution_count": 69,
            "metadata": {},
            "outputs": [
                {
                    "name": "stdout",
                    "output_type": "stream",
                    "text": [
                        "Dream's penguins: 123\n",
                        "Gentoo's penguins: 119\n"
                    ]
                }
            ],
            "source": [
                "# Your solution here ###########################################################\n",
                "print(\"Dream's penguins:\", dream.sum())\n",
                "print(\"Gentoo's penguins:\", gentoo.sum())\n",
                "# ^^^^^^^^^^^^^^^^^^^^^^^^^^^^^^^^^^^^^^^^^^^^^^^^^^^^^^^^^^^^^^^^^^^^^^^^^^^^^^^"
            ]
        },
        {
            "cell_type": "markdown",
            "metadata": {},
            "source": [
                "**2.2.3** You can use a boolean mask to extract values from an array.\n",
                "Compute the average mass and std of Dream's penguins using the corresponding NumPy functions."
            ]
        },
        {
            "cell_type": "code",
            "execution_count": 70,
            "metadata": {},
            "outputs": [
                {
                    "name": "stdout",
                    "output_type": "stream",
                    "text": [
                        "Average Dream's mass: 3718.9024390243903\n",
                        "Dream's mass std: 411.2535548986968\n"
                    ]
                }
            ],
            "source": [
                "# Your solution here ###########################################################\n",
                "print(\"Average Dream's mass:\", np.mean(y_mass[dream]))\n",
                "print(\"Dream's mass std:\", np.std(y_mass[dream]))\n",
                "# ^^^^^^^^^^^^^^^^^^^^^^^^^^^^^^^^^^^^^^^^^^^^^^^^^^^^^^^^^^^^^^^^^^^^^^^^^^^^^^^"
            ]
        },
        {
            "cell_type": "markdown",
            "metadata": {},
            "source": [
                "**2.2.4** Now, compute the average y_mass of Dream's penguins using the scalar product between the mass vector and the Dream boolean mask."
            ]
        },
        {
            "cell_type": "code",
            "execution_count": 71,
            "metadata": {},
            "outputs": [
                {
                    "name": "stdout",
                    "output_type": "stream",
                    "text": [
                        "Average Dream's mass: 3718.9024390243903\n"
                    ]
                }
            ],
            "source": [
                "# Your solution here ###########################################################\n",
                "dream_avg_mass: float = np.inner(dream, y_mass) / dream.sum()\n",
                "# ^^^^^^^^^^^^^^^^^^^^^^^^^^^^^^^^^^^^^^^^^^^^^^^^^^^^^^^^^^^^^^^^^^^^^^^^^^^^^^^\n",
                "print(\"Average Dream's mass:\", dream_avg_mass)"
            ]
        },
        {
            "cell_type": "markdown",
            "metadata": {},
            "source": [
                "**2.2.5** Compute the standard deviation as an inner product too and verify from previous answer."
            ]
        },
        {
            "cell_type": "code",
            "execution_count": 72,
            "metadata": {},
            "outputs": [
                {
                    "name": "stdout",
                    "output_type": "stream",
                    "text": [
                        "Dream's mass std: 411.25355489869673\n"
                    ]
                }
            ],
            "source": [
                "# Your solution here ###########################################################\n",
                "dream_std_mass: float = np.sqrt(\n",
                "    np.inner((y_mass - dream_avg_mass) ** 2, dream) / dream.sum()\n",
                ")\n",
                "# ^^^^^^^^^^^^^^^^^^^^^^^^^^^^^^^^^^^^^^^^^^^^^^^^^^^^^^^^^^^^^^^^^^^^^^^^^^^^^^^\n",
                "print(\"Dream's mass std:\", dream_std_mass)"
            ]
        },
        {
            "cell_type": "markdown",
            "metadata": {},
            "source": [
                "### Question 2.3: Linear regression\n",
                "\n",
                "Linear regression aims to find a weight vector $\\mathbf w$ such that the target value $y_i$ can be retrieved as a weighted sum of the corresponding features $\\mathbf x_i$, or in matrix notation\n",
                "$$ \\mathbf{X w} = \\mathbf y. $$\n",
                "\n",
                "Most of the time we cannot find an exact solution to this problem, therefore we introuce an error function and look for weights that minimize it."
            ]
        },
        {
            "cell_type": "markdown",
            "metadata": {},
            "source": [
                "**2.3.1** Find a solution for `w` by solving a linear system with `np.linalg.solve`.\n",
                "For this method to work you need as many equations as variables, so choose them randomly with `np.random.choice`.\n",
                "\n",
                "Selecting random rows your design matrix might become singular. You can use `try` to rerun until it works."
            ]
        },
        {
            "cell_type": "code",
            "execution_count": 73,
            "metadata": {},
            "outputs": [
                {
                    "name": "stdout",
                    "output_type": "stream",
                    "text": [
                        "Weights: [-2.10970402e+01 -9.64636083e+01  3.84776724e+01 -7.43404631e+02\n",
                        " -5.24695370e+18 -3.13898992e+18 -5.24695370e+18  5.24695370e+18\n",
                        "  5.24695370e+18  3.13898992e+18]\n"
                    ]
                }
            ],
            "source": [
                "n_samples, n_features = x.shape\n",
                "\n",
                "while True:\n",
                "    try:\n",
                "        # Your solution here ###################################################\n",
                "        choice = np.random.choice(n_samples, size=n_features, replace=False)\n",
                "        w_solve: np.ndarray = np.linalg.solve(x[choice], y_mass[choice])\n",
                "\n",
                "        # ^^^^^^^^^^^^^^^^^^^^^^^^^^^^^^^^^^^^^^^^^^^^^^^^^^^^^^^^^^^^^^^^^^^^^^^\n",
                "        break\n",
                "    except np.linalg.LinAlgError:\n",
                "        pass\n",
                "\n",
                "print(\"Weights:\", w_solve)"
            ]
        },
        {
            "cell_type": "markdown",
            "metadata": {},
            "source": [
                "**2.3.2** Define a function to compute the mean squared error (MSE) between the real `y` and the predicted one."
            ]
        },
        {
            "cell_type": "code",
            "execution_count": 74,
            "metadata": {},
            "outputs": [],
            "source": [
                "def mse(y_true: np.array, y_pred: np.array) -> float:\n",
                "    # Your solution here #######################################################\n",
                "    return np.mean((y_true - y_pred) ** 2)\n",
                "    # ^^^^^^^^^^^^^^^^^^^^^^^^^^^^^^^^^^^^^^^^^^^^^^^^^^^^^^^^^^^^^^^^^^^^^^^^^^^"
            ]
        },
        {
            "cell_type": "markdown",
            "metadata": {},
            "source": [
                "**2.3.3** Use the weights to predict the penguins masses, then compute their MSE."
            ]
        },
        {
            "cell_type": "code",
            "execution_count": 75,
            "metadata": {},
            "outputs": [
                {
                    "name": "stdout",
                    "output_type": "stream",
                    "text": [
                        "MSE of random subproblem: 5.871306216255334e+35\n"
                    ]
                }
            ],
            "source": [
                "# Your solution here ###########################################################\n",
                "mse_solve: float = mse(y_mass, x @ w_solve)\n",
                "# ^^^^^^^^^^^^^^^^^^^^^^^^^^^^^^^^^^^^^^^^^^^^^^^^^^^^^^^^^^^^^^^^^^^^^^^^^^^^^^^\n",
                "print(\"MSE of random subproblem:\", mse_solve)"
            ]
        },
        {
            "cell_type": "markdown",
            "metadata": {},
            "source": [
                "**2.3.4** Let's look for a solution that uses all the data by using the pseudoinverse of `x`."
            ]
        },
        {
            "cell_type": "code",
            "execution_count": 76,
            "metadata": {},
            "outputs": [],
            "source": [
                "# Your solution here ###########################################################\n",
                "w_pinv: np.ndarray = np.linalg.pinv(x) @ y_mass\n",
                "# ^^^^^^^^^^^^^^^^^^^^^^^^^^^^^^^^^^^^^^^^^^^^^^^^^^^^^^^^^^^^^^^^^^^^^^^^^^^^^^^"
            ]
        },
        {
            "cell_type": "markdown",
            "metadata": {},
            "source": [
                "**2.3.5** Compute the MSE of this solution prediction."
            ]
        },
        {
            "cell_type": "code",
            "execution_count": 77,
            "metadata": {},
            "outputs": [
                {
                    "name": "stdout",
                    "output_type": "stream",
                    "text": [
                        "MSE of psudoinverse solution: 80658.95570705223\n"
                    ]
                }
            ],
            "source": [
                "# Your solution here ###########################################################\n",
                "mse_pinv: float = mse(y_mass, x @ w_pinv)\n",
                "# ^^^^^^^^^^^^^^^^^^^^^^^^^^^^^^^^^^^^^^^^^^^^^^^^^^^^^^^^^^^^^^^^^^^^^^^^^^^^^^^\n",
                "print(\"MSE of psudoinverse solution:\", mse_pinv)"
            ]
        },
        {
            "cell_type": "markdown",
            "metadata": {},
            "source": [
                "### Question 2.4: Broadcasting\n",
                "\n",
                "In this section, we focus on a convenient way to manipulate arrays which allows parallelizing operations over the same input."
            ]
        },
        {
            "cell_type": "markdown",
            "metadata": {},
            "source": [
                "**2.4.1** extract all island one-hot encoding from the data frame and convert to boolean."
            ]
        },
        {
            "cell_type": "code",
            "execution_count": 78,
            "metadata": {},
            "outputs": [
                {
                    "name": "stdout",
                    "output_type": "stream",
                    "text": [
                        "islands shape (333, 3)\n"
                    ]
                }
            ],
            "source": [
                "# Your solution here ###########################################################\n",
                "islands_oh: np.ndarray = penguins[islands].values.astype(bool)\n",
                "# ^^^^^^^^^^^^^^^^^^^^^^^^^^^^^^^^^^^^^^^^^^^^^^^^^^^^^^^^^^^^^^^^^^^^^^^^^^^^^^^\n",
                "print(\"islands shape\", islands_oh.shape)"
            ]
        },
        {
            "cell_type": "markdown",
            "metadata": {},
            "source": [
                "**2.4.2** Multiply the penguin masses to `islands_oh` to mask them in parallel."
            ]
        },
        {
            "cell_type": "code",
            "execution_count": 79,
            "metadata": {},
            "outputs": [
                {
                    "name": "stdout",
                    "output_type": "stream",
                    "text": [
                        "There's an ERROR: operands could not be broadcast together with shapes (333,3) (333,) \n"
                    ]
                }
            ],
            "source": [
                "try:\n",
                "    # Your solution here ###########################################################\n",
                "    masked_mass: np.ndarray = islands_oh * y_mass\n",
                "    # ^^^^^^^^^^^^^^^^^^^^^^^^^^^^^^^^^^^^^^^^^^^^^^^^^^^^^^^^^^^^^^^^^^^^^^^^^^^^^^^\n",
                "except ValueError as err:\n",
                "    print(\"There's an ERROR:\", err)"
            ]
        },
        {
            "cell_type": "markdown",
            "metadata": {},
            "source": [
                "**2.4.3** Arrays of different shapes cannot be automatically broadcasted! Using `np.newaxis`, add a dimension to `y_mass` and try again."
            ]
        },
        {
            "cell_type": "code",
            "execution_count": 80,
            "metadata": {},
            "outputs": [],
            "source": [
                "# Your solution here ###########################################################\n",
                "masked_mass: np.ndarray = islands_oh * y_mass[:, np.newaxis]\n",
                "# ^^^^^^^^^^^^^^^^^^^^^^^^^^^^^^^^^^^^^^^^^^^^^^^^^^^^^^^^^^^^^^^^^^^^^^^^^^^^^^^"
            ]
        },
        {
            "cell_type": "markdown",
            "metadata": {},
            "source": [
                "**2.4.4** Compute the average masses over different islands summing the masked masses along the corresponding axes."
            ]
        },
        {
            "cell_type": "code",
            "execution_count": 81,
            "metadata": {},
            "outputs": [
                {
                    "name": "stdout",
                    "output_type": "stream",
                    "text": [
                        "Average masses:\n",
                        "{'Torgersen': 3708.5106382978724, 'Biscoe': 4719.171779141105, 'Dream': 3718.9024390243903}\n"
                    ]
                }
            ],
            "source": [
                "# Your solution here ###########################################################\n",
                "avg_masses: np.ndarray = masked_mass.sum(axis=0) / islands_oh.sum(0)\n",
                "# ^^^^^^^^^^^^^^^^^^^^^^^^^^^^^^^^^^^^^^^^^^^^^^^^^^^^^^^^^^^^^^^^^^^^^^^^^^^^^^^\n",
                "print(\"Average masses:\")\n",
                "print(dict(zip(islands, avg_masses)))"
            ]
        },
        {
            "cell_type": "markdown",
            "metadata": {},
            "source": [
                "**2.4.5** Use broadcasting and masking to compute standard deviations for each island."
            ]
        },
        {
            "cell_type": "code",
            "execution_count": 82,
            "metadata": {},
            "outputs": [
                {
                    "name": "stdout",
                    "output_type": "stream",
                    "text": [
                        "Mass standard deviations:\n",
                        "{'Torgersen': 447.0136307284593, 'Biscoe': 788.4303859944843, 'Dream': 411.2535548986968}\n"
                    ]
                }
            ],
            "source": [
                "# Your solution here ###########################################################\n",
                "std_masses: np.ndarray = np.sqrt(\n",
                "    np.sum(\n",
                "        (y_mass[:, np.newaxis] - avg_masses[np.newaxis, :]) ** 2 * islands_oh,\n",
                "        axis=0,\n",
                "    )\n",
                "    / islands_oh.sum(0)\n",
                ")\n",
                "# ^^^^^^^^^^^^^^^^^^^^^^^^^^^^^^^^^^^^^^^^^^^^^^^^^^^^^^^^^^^^^^^^^^^^^^^^^^^^^^^\n",
                "print(\"Mass standard deviations:\")\n",
                "print(dict(zip(islands, std_masses)))"
            ]
        },
        {
            "cell_type": "markdown",
            "metadata": {},
            "source": [
                "### Question 2.5: K-Nearest neighbors\n",
                "\n",
                "Let's implement a k-nearest neighbors (kNN) classifier to identify penguin species from their physical attributes.\n",
                "\n",
                "For a query data point, kNN predicts its label as the most frequent one between those of the k closest samples from the training dataset. In this setting, we will use euclidean distance between points:\n",
                "$$ d(\\mathbf x_i, \\mathbf x_j) = \\sqrt{\\sum_{n=1}^D (x_{id} - x_{jd})^2} $$\n",
                "\n",
                "In the next cell, we prepare to split the data in training and test sets."
            ]
        },
        {
            "cell_type": "code",
            "execution_count": 83,
            "metadata": {},
            "outputs": [],
            "source": [
                "physical_attributes = [\n",
                "    \"culmen_length_mm\",\n",
                "    \"culmen_depth_mm\",\n",
                "    \"flipper_length_mm\",\n",
                "    \"body_mass_g\",\n",
                "]\n",
                "\n",
                "# We count the number of samples and set the amount of training data to 70% of that\n",
                "n_samples = len(penguins)\n",
                "samples_tr = int(n_samples * 0.7)\n",
                "\n",
                "# We shuffle the indices of the data and take the first 70% to be in training\n",
                "# Working with indices allows us to recognise which features go with which labels\n",
                "rng = np.random.default_rng(11)\n",
                "shuffled = rng.permutation(np.arange(n_samples))\n",
                "idx_tr = shuffled[:samples_tr]\n",
                "idx_te = shuffled[samples_tr:]"
            ]
        },
        {
            "cell_type": "markdown",
            "metadata": {},
            "source": [
                "**2.5.1** Extract training and test features from the `penguins` data frame using the indices defined above and split the `y_species` series (computed in 1.2.5) accordingly.\n",
                "\n",
                "You can use `DataFrame.iloc` to work with integer indexing in pandas.\n",
                "Remember to extract arrays from data frames."
            ]
        },
        {
            "cell_type": "code",
            "execution_count": 84,
            "metadata": {},
            "outputs": [
                {
                    "name": "stdout",
                    "output_type": "stream",
                    "text": [
                        "Training features: (233, 4)\n",
                        "Test features: (100, 4)\n"
                    ]
                }
            ],
            "source": [
                "# Your solution here ###########################################################\n",
                "x_tr: np.ndarray = penguins[physical_attributes].iloc[idx_tr].values\n",
                "x_te: np.ndarray = penguins[physical_attributes].iloc[idx_te].values\n",
                "y_tr: np.ndarray = y_species.iloc[idx_tr].values\n",
                "y_te: np.ndarray = y_species.iloc[idx_te].values\n",
                "# ^^^^^^^^^^^^^^^^^^^^^^^^^^^^^^^^^^^^^^^^^^^^^^^^^^^^^^^^^^^^^^^^^^^^^^^^^^^^^^\n",
                "print(\"Training features:\", x_tr.shape)\n",
                "print(\"Test features:\", x_te.shape)"
            ]
        },
        {
            "cell_type": "markdown",
            "metadata": {},
            "source": [
                "**2.5.2** Write a function that computes pairwise distances between all query points and training ones. Use broadcasting and sum along corresponding axes to get an efficient implementation."
            ]
        },
        {
            "cell_type": "code",
            "execution_count": 85,
            "metadata": {},
            "outputs": [
                {
                    "name": "stdout",
                    "output_type": "stream",
                    "text": [
                        "Distances shape: (100, 233)\n"
                    ]
                }
            ],
            "source": [
                "def pairwise_distances(x_query: np.ndarray, x_tr: np.ndarray) -> np.ndarray:\n",
                "    \"\"\"Compute pairwise distances\n",
                "\n",
                "    Args:\n",
                "        x_query (np.ndarray): Array of shape (n_queries, n_features)\n",
                "        x_tr (np.ndarray): Array of shape (n_samples, n_features)\n",
                "\n",
                "    Returns:\n",
                "        np.ndarray: Distances in array of shape (n_queries, n_samples)\n",
                "    \"\"\"\n",
                "    # Your solution here #######################################################\n",
                "    return np.sqrt(\n",
                "        np.sum(\n",
                "            (x_query[:, np.newaxis, :] - x_tr[np.newaxis, :, :]) ** 2,\n",
                "            axis=-1,\n",
                "        )\n",
                "    )\n",
                "    # ^^^^^^^^^^^^^^^^^^^^^^^^^^^^^^^^^^^^^^^^^^^^^^^^^^^^^^^^^^^^^^^^^^^^^^^^^^\n",
                "\n",
                "\n",
                "pdists_te = pairwise_distances(x_te, x_tr)\n",
                "print(\"Distances shape:\", pdists_te.shape)"
            ]
        },
        {
            "cell_type": "markdown",
            "metadata": {},
            "source": [
                "**2.5.3** For each query, identify the closest training samples using `np.argsort`. Use the `axis` argument to avoid iterating over the matrix."
            ]
        },
        {
            "cell_type": "code",
            "execution_count": 86,
            "metadata": {},
            "outputs": [
                {
                    "name": "stdout",
                    "output_type": "stream",
                    "text": [
                        "5 nearest neighbors for query 4: [ 93 193  40   5 211]\n"
                    ]
                }
            ],
            "source": [
                "# Your solution here ###########################################################\n",
                "nearest_ngbs_te: np.ndarray = np.argsort(pdists_te, axis=1)\n",
                "# ^^^^^^^^^^^^^^^^^^^^^^^^^^^^^^^^^^^^^^^^^^^^^^^^^^^^^^^^^^^^^^^^^^^^^^^^^^^^^^\n",
                "\n",
                "print(\"5 nearest neighbors for query 4:\", nearest_ngbs_te[4, :5])"
            ]
        },
        {
            "cell_type": "markdown",
            "metadata": {},
            "source": [
                "**2.5.4** Write a function that takes an array of nearest neighbors for each query, together with training labels and the predefined $k$ and returns the predicted labels for queries."
            ]
        },
        {
            "cell_type": "code",
            "execution_count": 87,
            "metadata": {},
            "outputs": [
                {
                    "name": "stdout",
                    "output_type": "stream",
                    "text": [
                        "Predicted labels of the first 10 queries: [0 0 1 2 2 2 2 1 0 0]\n",
                        "Real labels:                              [0 0 1 2 2 2 2 1 2 0]\n"
                    ]
                }
            ],
            "source": [
                "def predict_labels(nearest_ngbs: np.ndarray, y_tr: np.ndarray, k: int) -> np.ndarray:\n",
                "    \"\"\"Predict labels from k-nearest neighbors\n",
                "\n",
                "    Args:\n",
                "        nearest_ngbs (np.ndarray): Array of neighbors indices, sorted by distance.\n",
                "            Shape: (n_queries, n_samples)\n",
                "        y_tr (np.ndarray): Training labels of shape (n_samples,)\n",
                "        k (int): number of nearest neighbors to consider\n",
                "\n",
                "    Returns:\n",
                "        np.ndarray: Predicted labels of shape (n_queries,)\n",
                "    \"\"\"\n",
                "    # Your solution here #######################################################\n",
                "    # Extract nearest ngbs labels\n",
                "    nn_labels = y_tr[nearest_ngbs[:, :k]]\n",
                "\n",
                "    # Count label occurrencies for each query\n",
                "    labels = np.arange(y_tr.max() + 1)\n",
                "    return np.argmax(\n",
                "        np.sum(\n",
                "            nn_labels[..., np.newaxis] == labels[np.newaxis, np.newaxis, :], axis=-2\n",
                "        ),\n",
                "        axis=-1,\n",
                "    )\n",
                "\n",
                "    # ^^^^^^^^^^^^^^^^^^^^^^^^^^^^^^^^^^^^^^^^^^^^^^^^^^^^^^^^^^^^^^^^^^^^^^^^^^\n",
                "\n",
                "\n",
                "print(\n",
                "    \"Predicted labels of the first 10 queries:\",\n",
                "    predict_labels(nearest_ngbs_te[:10], y_tr, 5),\n",
                ")\n",
                "print(\"Real labels:                             \", y_te[:10])"
            ]
        },
        {
            "cell_type": "markdown",
            "metadata": {},
            "source": [
                "**2.5.5** Compute the precision of kNN's predictions for both the training and test datasets for all k between 1 and 30."
            ]
        },
        {
            "cell_type": "code",
            "execution_count": 88,
            "metadata": {},
            "outputs": [
                {
                    "data": {
                        "image/png": "[encoded data removed]",
                        "text/plain": [
                            "<Figure size 800x300 with 1 Axes>"
                        ]
                    },
                    "metadata": {},
                    "output_type": "display_data"
                }
            ],
            "source": [
                "# Your solution here ###########################################################\n",
                "precisions_te: list[float] = [\n",
                "    np.mean(predict_labels(nearest_ngbs_te, y_tr, k) == y_te) for k in range(1, 31)\n",
                "]\n",
                "\n",
                "pdists_tr = pairwise_distances(x_tr, x_tr)\n",
                "nearest_ngbs_tr = np.argsort(pdists_tr, axis=1)\n",
                "precisions_tr: list[float] = [\n",
                "    np.mean(predict_labels(nearest_ngbs_tr, y_tr, k) == y_tr) for k in range(1, 31)\n",
                "]\n",
                "\n",
                "# ^^^^^^^^^^^^^^^^^^^^^^^^^^^^^^^^^^^^^^^^^^^^^^^^^^^^^^^^^^^^^^^^^^^^^^^^^^^^^^\n",
                "\n",
                "# Plot\n",
                "fig, ax = plt.subplots(figsize=(8, 3), dpi=100)\n",
                "ax.plot(precisions_tr, label=\"Train\")\n",
                "ax.plot(precisions_te, label=\"Test\")\n",
                "ax.set(title=\"My kNN implmentation\", ylabel=\"precision\", xlabel=\"k value\")\n",
                "plt.legend()\n",
                "plt.show()"
            ]
        },
        {
            "cell_type": "markdown",
            "metadata": {},
            "source": [
                "## Part 3: Scikit-learn, machine learning toolbox\n",
                "\n",
                "Scikit-learn provides implementations for many machine learning algorithms, which all share the basic common interface of `fit` and `predict` methods. Let's compare it to our kNN implementation."
            ]
        },
        {
            "cell_type": "markdown",
            "metadata": {},
            "source": [
                "**3.1** Import the k nearest neighbor classifier from Scikit-learn."
            ]
        },
        {
            "cell_type": "code",
            "execution_count": 89,
            "metadata": {},
            "outputs": [],
            "source": [
                "# Your solution here ###########################################################\n",
                "from sklearn.neighbors import KNeighborsClassifier\n",
                "\n",
                "# ^^^^^^^^^^^^^^^^^^^^^^^^^^^^^^^^^^^^^^^^^^^^^^^^^^^^^^^^^^^^^^^^^^^^^^^^^^^^^^"
            ]
        },
        {
            "cell_type": "markdown",
            "metadata": {},
            "source": [
                "**3.2** Import the precision function."
            ]
        },
        {
            "cell_type": "code",
            "execution_count": 90,
            "metadata": {},
            "outputs": [],
            "source": [
                "# Your solution here ###########################################################\n",
                "from sklearn.metrics import precision_score\n",
                "\n",
                "# ^^^^^^^^^^^^^^^^^^^^^^^^^^^^^^^^^^^^^^^^^^^^^^^^^^^^^^^^^^^^^^^^^^^^^^^^^^^^^^"
            ]
        },
        {
            "cell_type": "markdown",
            "metadata": {},
            "source": [
                "**3.3** Compute train and test precision for all k between 1 and 30. Use the \"micro\" option for the precision score."
            ]
        },
        {
            "cell_type": "code",
            "execution_count": 91,
            "metadata": {},
            "outputs": [],
            "source": [
                "# Your solution here ###########################################################\n",
                "\n",
                "sk_prec_tr: list[float] = []\n",
                "sk_prec_te: list[float] = []\n",
                "\n",
                "for k in range(1, 31):\n",
                "    knn = KNeighborsClassifier(n_neighbors=k).fit(x_tr, y_tr)\n",
                "    sk_prec_tr.append(precision_score(y_tr, knn.predict(x_tr), average=\"micro\"))\n",
                "    sk_prec_te.append(precision_score(y_te, knn.predict(x_te), average=\"micro\"))\n",
                "\n",
                "# ^^^^^^^^^^^^^^^^^^^^^^^^^^^^^^^^^^^^^^^^^^^^^^^^^^^^^^^^^^^^^^^^^^^^^^^^^^^^^^"
            ]
        },
        {
            "cell_type": "markdown",
            "metadata": {},
            "source": [
                "**3.4** Plot scores and compare to your implementation."
            ]
        },
        {
            "cell_type": "code",
            "execution_count": 92,
            "metadata": {},
            "outputs": [
                {
                    "data": {
                        "image/png": "[encoded data removed]",
                        "text/plain": [
                            "<Figure size 800x300 with 1 Axes>"
                        ]
                    },
                    "metadata": {},
                    "output_type": "display_data"
                }
            ],
            "source": [
                "# Your solution here ###########################################################\n",
                "fig, ax = plt.subplots(figsize=(8, 3), dpi=100)\n",
                "ax.plot(sk_prec_tr, label=\"Train\")\n",
                "ax.plot(sk_prec_te, label=\"Test\")\n",
                "plt.legend()\n",
                "# ^^^^^^^^^^^^^^^^^^^^^^^^^^^^^^^^^^^^^^^^^^^^^^^^^^^^^^^^^^^^^^^^^^^^^^^^^^^^^^\n",
                "\n",
                "ax.set(title=\"SkLearn kNN implementation\", ylabel=\"precision\", xlabel=\"k value\")\n",
                "plt.show()"
            ]
        }
    ],
    "metadata": {
        "colab": {
            "provenance": [],
            "toc_visible": true
        },
        "kernelspec": {
            "display_name": "nml",
            "language": "python",
            "name": "python3"
        },
        "language_info": {
            "codemirror_mode": {
                "name": "ipython",
                "version": 3
            },
            "file_extension": ".py",
            "mimetype": "text/x-python",
            "name": "python",
            "nbconvert_exporter": "python",
            "pygments_lexer": "ipython3",
            "version": "3.9.18"
        }
    },
    "nbformat": 4,
    "nbformat_minor": 0
}
