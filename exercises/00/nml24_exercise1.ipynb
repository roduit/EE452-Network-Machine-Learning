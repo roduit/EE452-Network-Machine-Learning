{
    "cells": [
        {
            "cell_type": "markdown",
            "metadata": {
                "id": "8S5mo9I3pA2Q"
            },
            "source": [
                "# [NML-24] Exercise 1: Pandas, NumPy, and Scikit-learn basics\n",
                "\n",
                "TAs: [William Cappelletti](https://people.epfl.ch/william.cappelletti) and [Abdellah Rahmani](https://people.epfl.ch/abdellah.rahmani)"
            ]
        },
        {
            "cell_type": "markdown",
            "metadata": {},
            "source": [
                "## Instructions\n",
                "\n",
                "**!! Read carefully before starting !!**\n",
                "\n",
                "Exercises will have the same format as assignments, so use them to get familiar with the submission format.\n",
                "\n",
                "**Expected output:**\n",
                "\n",
                "You will have coding and theoretical questions. Coding exercises shall be solved within the specified space:\n",
                "```python\n",
                "# Your solution here ###########################################################\n",
                "...\n",
                "#^^^^^^^^^^^^^^^^^^^^^^^^^^^^^^^^^^^^^^^^^^^^^^^^^^^^^^^^^^^^^^^^^^^^^^^^^^^^^^^\n",
                "```\n",
                "Sometimes we provide variable names, such as `x = ...`; do not change names and stick to hinted typing, as they will be reused later.\n",
                "Within the solution space, you can declare any other variable of function that you might need, but anything outside these lines shall not be changed, or it will invalidate your answers.\n",
                "\n",
                "Theoretical questions shall be answered in the following markdown cell. The first line will be \n",
                "```markdown\n",
                "**Your answer here:**\n",
                "...\n",
                "```\n",
                "\n",
                "**Solutions:**\n",
                "* Your submission is self-contained in the `.ipynb` file.\n",
                "\n",
                "* Code has to be clean and readable. Provide meaningful variable names and comment where needed.\n",
                "\n",
                "* Textual answers in [markdown cells][md_cells] shall be short: one to two\n",
                "  sentences. Math shall be written in [LaTeX][md_latex].\n",
                "    **NOTE**: handwritten notes pasted in the notebook are ignored\n",
                "\n",
                "* You cannot import any other library than we imported, unless explicitly stated.\n",
                "\n",
                "* Make sure all cells are executed before submitting. I.e., if you open the notebook again it should show numerical results and plots. Cells not run are ignored.\n",
                "\n",
                "* Execute your notebook from a blank state before submission, to make sure it is reproducible. You can click \"Kernel\" then \"Restart Kernel and Run All Cells\" in Jupyter. We might re-run cells to ensure that the code is working and corresponds to the results.\n",
                "\n",
                "[md_cells]: https://jupyter-notebook.readthedocs.io/en/stable/examples/Notebook/Working%20With%20Markdown%20Cells.html\n",
                "[md_latex]: https://jupyter-notebook.readthedocs.io/en/stable/examples/Notebook/Working%20With%20Markdown%20Cells.html#LaTex-equations"
            ]
        },
        {
            "cell_type": "markdown",
            "metadata": {
                "id": "cmp4-YzspA2V"
            },
            "source": [
                "## Objective\n",
                "\n",
                "This exercise session explore some basic Python libraries that we will use multiple times during the assignments and projects, namely\n",
                "* [Pandas](https://pandas.pydata.org/docs/)\n",
                "* [NumPy](https://numpy.org/devdocs/user/index.html)\n",
                "* [Scikit-learn](https://scikit-learn.org/stable/user_guide.html)\n",
                "\n",
                "If you know those libraries, most task in this notebook will be easy. If you struggle with some aspects, take time to revise the library documentations, as next sessions will rely on these tools.\n",
                "\n",
                "## Dataset\n",
                "\n",
                "We will use the [Palmer Archipelago (Antarctica) penguin data](https://github.com/allisonhorst/palmerpenguins/tree/main) for this exercise session.\n",
                "\n",
                "We provide a simplified version of the data in `penguins_size.csv`\n",
                "\n",
                "Dataset reference: https://doi.org/10.5281/zenodo.3960218"
            ]
        },
        {
            "cell_type": "code",
            "execution_count": null,
            "metadata": {},
            "outputs": [],
            "source": [
                "# Plotting functions\n",
                "import matplotlib.pyplot as plt\n",
                "import seaborn as sns\n",
                "\n",
                "sns.set_theme()"
            ]
        },
        {
            "cell_type": "markdown",
            "metadata": {
                "id": "p-klVToLpA2W"
            },
            "source": [
                "## Part 1: Pandas, to manipulate tabular data"
            ]
        },
        {
            "cell_type": "code",
            "execution_count": null,
            "metadata": {
                "executionInfo": {
                    "elapsed": 1098,
                    "status": "ok",
                    "timestamp": 1678195756241,
                    "user": {
                        "displayName": "William Cappelletti",
                        "userId": "12872756599850317206"
                    },
                    "user_tz": -60
                },
                "id": "D36pWRXdpA2X"
            },
            "outputs": [],
            "source": [
                "import pandas as pd"
            ]
        },
        {
            "cell_type": "markdown",
            "metadata": {
                "id": "4EP7SoAwITHs"
            },
            "source": [
                "### Question 1.1: Data loading and examination"
            ]
        },
        {
            "cell_type": "markdown",
            "metadata": {
                "id": "jS75sxnOJgoO"
            },
            "source": [
                "**1.1.1** Read the `penguins_size.csv` file into a Pandas DataFrame, using the `read_csv` function."
            ]
        },
        {
            "cell_type": "code",
            "execution_count": null,
            "metadata": {
                "colab": {
                    "base_uri": "https://localhost:8080/"
                },
                "executionInfo": {
                    "elapsed": 903,
                    "status": "ok",
                    "timestamp": 1678195757142,
                    "user": {
                        "displayName": "William Cappelletti",
                        "userId": "12872756599850317206"
                    },
                    "user_tz": -60
                },
                "id": "iKhgUHzqpA2a",
                "outputId": "f5fe658a-b2c1-467e-c247-efbf6c580264"
            },
            "outputs": [],
            "source": [
                "# Your solution here ###########################################################\n",
                "penguins: pd.DataFrame = ...\n",
                "# ^^^^^^^^^^^^^^^^^^^^^^^^^^^^^^^^^^^^^^^^^^^^^^^^^^^^^^^^^^^^^^^^^^^^^^^^^^^^^^^"
            ]
        },
        {
            "cell_type": "markdown",
            "metadata": {},
            "source": [
                "**1.1.2** Extract the first five rows of the data frame and 10 random ones, then concatenate and display them. You can use the built-in `display` function."
            ]
        },
        {
            "cell_type": "code",
            "execution_count": null,
            "metadata": {},
            "outputs": [],
            "source": [
                "# Your solution here ###########################################################\n",
                "\n",
                "display(...)\n",
                "\n",
                "# ^^^^^^^^^^^^^^^^^^^^^^^^^^^^^^^^^^^^^^^^^^^^^^^^^^^^^^^^^^^^^^^^^^^^^^^^^^^^^^^"
            ]
        },
        {
            "cell_type": "markdown",
            "metadata": {},
            "source": [
                "**1.1.3** Look at the fourth entry: it is missing information, which is filled with `NaN` (not a number) values.\n",
                "Let's drop all rows with missing values, then display the first 10 rows."
            ]
        },
        {
            "cell_type": "code",
            "execution_count": null,
            "metadata": {},
            "outputs": [],
            "source": [
                "# Your solution here ###########################################################\n",
                "\n",
                "# ^^^^^^^^^^^^^^^^^^^^^^^^^^^^^^^^^^^^^^^^^^^^^^^^^^^^^^^^^^^^^^^^^^^^^^^^^^^^^^^"
            ]
        },
        {
            "cell_type": "markdown",
            "metadata": {},
            "source": [
                "**1.1.4** Compute and display the mean and std of `culmen_length_mm` and `body_mass_g`."
            ]
        },
        {
            "cell_type": "code",
            "execution_count": null,
            "metadata": {},
            "outputs": [],
            "source": [
                "# Your solution here ###########################################################\n",
                "\n",
                "print(\"Mean values:\")\n",
                "...\n",
                "\n",
                "print(\"Standard deviation:\")\n",
                "...\n",
                "\n",
                "# ^^^^^^^^^^^^^^^^^^^^^^^^^^^^^^^^^^^^^^^^^^^^^^^^^^^^^^^^^^^^^^^^^^^^^^^^^^^^^^^"
            ]
        },
        {
            "cell_type": "markdown",
            "metadata": {},
            "source": [
                "**1.1.5** Examine statistics of all columns with the `describe` method."
            ]
        },
        {
            "cell_type": "code",
            "execution_count": null,
            "metadata": {},
            "outputs": [],
            "source": [
                "# Your solution here ###########################################################\n",
                "\n",
                "# ^^^^^^^^^^^^^^^^^^^^^^^^^^^^^^^^^^^^^^^^^^^^^^^^^^^^^^^^^^^^^^^^^^^^^^^^^^^^^^^"
            ]
        },
        {
            "cell_type": "markdown",
            "metadata": {},
            "source": [
                "**1.1.6** Plot a histogram of `body_mass_g`, split by `sex`."
            ]
        },
        {
            "cell_type": "code",
            "execution_count": null,
            "metadata": {},
            "outputs": [],
            "source": [
                "# Your solution here ###########################################################\n",
                "\n",
                "# ^^^^^^^^^^^^^^^^^^^^^^^^^^^^^^^^^^^^^^^^^^^^^^^^^^^^^^^^^^^^^^^^^^^^^^^^^^^^^^^\n",
                "plt.show()"
            ]
        },
        {
            "cell_type": "markdown",
            "metadata": {},
            "source": [
                "**1.1.7** The [seaborn](https://seaborn.pydata.org/tutorial.html) library provides nicer visualization functionalities. Let's produce the same histogram with it."
            ]
        },
        {
            "cell_type": "code",
            "execution_count": null,
            "metadata": {},
            "outputs": [],
            "source": [
                "# Your solution here ###########################################################\n",
                "\n",
                "# ^^^^^^^^^^^^^^^^^^^^^^^^^^^^^^^^^^^^^^^^^^^^^^^^^^^^^^^^^^^^^^^^^^^^^^^^^^^^^^^\n",
                "plt.show()"
            ]
        },
        {
            "cell_type": "markdown",
            "metadata": {},
            "source": [
                "## Question 1.2: indexing and manipulation"
            ]
        },
        {
            "cell_type": "markdown",
            "metadata": {},
            "source": [
                "**1.2.1** Use the `loc` property to remove penguins without sex."
            ]
        },
        {
            "cell_type": "code",
            "execution_count": null,
            "metadata": {},
            "outputs": [],
            "source": [
                "# Your solution here ###########################################################\n",
                "\n",
                "# ^^^^^^^^^^^^^^^^^^^^^^^^^^^^^^^^^^^^^^^^^^^^^^^^^^^^^^^^^^^^^^^^^^^^^^^^^^^^^^^\n",
                "display(penguins.loc[[13, 26, 39, 52]])"
            ]
        },
        {
            "cell_type": "markdown",
            "metadata": {},
            "source": [
                "**1.2.2** Make `sex` a boolean property, with value `True` for `\"FEMALE\"` and `False` for `\"MALE\"`."
            ]
        },
        {
            "cell_type": "code",
            "execution_count": null,
            "metadata": {},
            "outputs": [],
            "source": [
                "# Your solution here ###########################################################\n",
                "\n",
                "# ^^^^^^^^^^^^^^^^^^^^^^^^^^^^^^^^^^^^^^^^^^^^^^^^^^^^^^^^^^^^^^^^^^^^^^^^^^^^^^^\n",
                "display(penguins.loc[[13, 26, 39, 52]])"
            ]
        },
        {
            "cell_type": "markdown",
            "metadata": {},
            "source": [
                "**1.2.3** In the next questions we will encode numerically the `island` and `species` property. Let's start by identifying the island's and species names."
            ]
        },
        {
            "cell_type": "code",
            "execution_count": null,
            "metadata": {},
            "outputs": [],
            "source": [
                "# Your solution here ###########################################################\n",
                "islands: list[str] = ...\n",
                "species: list[str] = ...\n",
                "# ^^^^^^^^^^^^^^^^^^^^^^^^^^^^^^^^^^^^^^^^^^^^^^^^^^^^^^^^^^^^^^^^^^^^^^^^^^^^^^^\n",
                "print(\"islands:\", islands)\n",
                "print(\"species:\", species)"
            ]
        },
        {
            "cell_type": "markdown",
            "metadata": {},
            "source": [
                "**1.2.4** For each island and species, add a column with boolean value, indicating whether the penguin comes from said island, or belong to said species."
            ]
        },
        {
            "cell_type": "code",
            "execution_count": null,
            "metadata": {},
            "outputs": [],
            "source": [
                "# Your solution here ###########################################################\n",
                "\n",
                "# ^^^^^^^^^^^^^^^^^^^^^^^^^^^^^^^^^^^^^^^^^^^^^^^^^^^^^^^^^^^^^^^^^^^^^^^^^^^^^^^\n",
                "display(penguins.loc[[13, 26, 39, 52]])"
            ]
        },
        {
            "cell_type": "markdown",
            "metadata": {},
            "source": [
                "**1.2.5** In some case, we might want to encode species as integers.\n",
                "Use the `map` method and a dictionary mapping species to numbers to get a `y_species` vector."
            ]
        },
        {
            "cell_type": "code",
            "execution_count": null,
            "metadata": {},
            "outputs": [],
            "source": [
                "# Your solution here ###########################################################\n",
                "y_species: pd.Series = ...\n",
                "# ^^^^^^^^^^^^^^^^^^^^^^^^^^^^^^^^^^^^^^^^^^^^^^^^^^^^^^^^^^^^^^^^^^^^^^^^^^^^^^^\n",
                "y_species"
            ]
        },
        {
            "cell_type": "markdown",
            "metadata": {},
            "source": [
                "**1.2.6** Drop the `island` and `species` columns, since they are not needed anymore."
            ]
        },
        {
            "cell_type": "code",
            "execution_count": null,
            "metadata": {},
            "outputs": [],
            "source": [
                "# Your solution here ###########################################################\n",
                "\n",
                "# ^^^^^^^^^^^^^^^^^^^^^^^^^^^^^^^^^^^^^^^^^^^^^^^^^^^^^^^^^^^^^^^^^^^^^^^^^^^^^^^\n",
                "display(penguins.loc[[13, 26, 39, 52]])"
            ]
        },
        {
            "cell_type": "code",
            "execution_count": null,
            "metadata": {},
            "outputs": [],
            "source": [
                "penguins.head(10)"
            ]
        },
        {
            "cell_type": "markdown",
            "metadata": {},
            "source": [
                "## Part 2: NumPy, scientific computing in Python\n",
                "\n",
                "NumPy allows manipulating vectors, matrices and higher order tensors as `arrays`. For instance vectors are 1d arrays, and matrices have two dimensions (rows and columns)."
            ]
        },
        {
            "cell_type": "code",
            "execution_count": null,
            "metadata": {},
            "outputs": [],
            "source": [
                "import numpy as np"
            ]
        },
        {
            "cell_type": "markdown",
            "metadata": {},
            "source": [
                "**2.1.1** Pandas is built on top of NumPy. We can access the underlying array though the `values` attribute of a DataFrame. Let's put all but the `body_mass_g` columns in the *design matrix* `x`, and the y_mass one in the *target vector* `y_mass`."
            ]
        },
        {
            "cell_type": "code",
            "execution_count": null,
            "metadata": {},
            "outputs": [],
            "source": [
                "# Your solution here ###########################################################\n",
                "x: np.ndarray = ...\n",
                "y_mass: np.ndarray = ...\n",
                "# ^^^^^^^^^^^^^^^^^^^^^^^^^^^^^^^^^^^^^^^^^^^^^^^^^^^^^^^^^^^^^^^^^^^^^^^^^^^^^^^"
            ]
        },
        {
            "cell_type": "markdown",
            "metadata": {},
            "source": [
                "**2.1.2** Let's inspect the `shape` of these two arrays."
            ]
        },
        {
            "cell_type": "code",
            "execution_count": null,
            "metadata": {},
            "outputs": [],
            "source": [
                "# Your solution here ###########################################################\n",
                "print(\"x shape:\", ...)\n",
                "print(\"y shape:\", ...)\n",
                "# ^^^^^^^^^^^^^^^^^^^^^^^^^^^^^^^^^^^^^^^^^^^^^^^^^^^^^^^^^^^^^^^^^^^^^^^^^^^^^^^"
            ]
        },
        {
            "cell_type": "markdown",
            "metadata": {},
            "source": [
                "**2.1.3** Then let's check the first five rows of `x`."
            ]
        },
        {
            "cell_type": "code",
            "execution_count": null,
            "metadata": {},
            "outputs": [],
            "source": [
                "# Your solution here ###########################################################\n",
                "\n",
                "# ^^^^^^^^^^^^^^^^^^^^^^^^^^^^^^^^^^^^^^^^^^^^^^^^^^^^^^^^^^^^^^^^^^^^^^^^^^^^^^^"
            ]
        },
        {
            "cell_type": "markdown",
            "metadata": {},
            "source": [
                "**2.1.4** Notice that the `dtype` of `x` is `object`, which means that it contains multiple types. Let's convert it to `float` and check the first rows again."
            ]
        },
        {
            "cell_type": "code",
            "execution_count": null,
            "metadata": {},
            "outputs": [],
            "source": [
                "# Your solution here ###########################################################\n",
                "\n",
                "# ^^^^^^^^^^^^^^^^^^^^^^^^^^^^^^^^^^^^^^^^^^^^^^^^^^^^^^^^^^^^^^^^^^^^^^^^^^^^^^^"
            ]
        },
        {
            "cell_type": "markdown",
            "metadata": {},
            "source": [
                "### Question 2.2: Arrays manipulation\n"
            ]
        },
        {
            "cell_type": "markdown",
            "metadata": {},
            "source": [
                "**2.2.1** Extract the values of `Dream` and `Gentoo` columns into two vectors. Convert them to boolean."
            ]
        },
        {
            "cell_type": "code",
            "execution_count": null,
            "metadata": {},
            "outputs": [],
            "source": [
                "dream: np.ndarray\n",
                "gentoo: np.ndarray\n",
                "# Your solution here ###########################################################\n",
                "dream, gentoo = ...\n",
                "# ^^^^^^^^^^^^^^^^^^^^^^^^^^^^^^^^^^^^^^^^^^^^^^^^^^^^^^^^^^^^^^^^^^^^^^^^^^^^^^^"
            ]
        },
        {
            "cell_type": "markdown",
            "metadata": {},
            "source": [
                "**2.2.2** Count how many penguins come from the Dream island using the `sum` method. Repeat for the Gentoo specie."
            ]
        },
        {
            "cell_type": "code",
            "execution_count": null,
            "metadata": {},
            "outputs": [],
            "source": [
                "# Your solution here ###########################################################\n",
                "print(\"Dream's penguins:\", ...)\n",
                "print(\"Gentoo's penguins:\", ...)\n",
                "# ^^^^^^^^^^^^^^^^^^^^^^^^^^^^^^^^^^^^^^^^^^^^^^^^^^^^^^^^^^^^^^^^^^^^^^^^^^^^^^^"
            ]
        },
        {
            "cell_type": "markdown",
            "metadata": {},
            "source": [
                "**2.2.3** You can use a boolean mask to extract values from an array.\n",
                "Compute the average mass and std of Dream's penguins using the corresponding NumPy functions."
            ]
        },
        {
            "cell_type": "code",
            "execution_count": null,
            "metadata": {},
            "outputs": [],
            "source": [
                "# Your solution here ###########################################################\n",
                "print(\"Average Dream's mass:\", ...)\n",
                "print(\"Dream's mass std:\", ...)\n",
                "# ^^^^^^^^^^^^^^^^^^^^^^^^^^^^^^^^^^^^^^^^^^^^^^^^^^^^^^^^^^^^^^^^^^^^^^^^^^^^^^^"
            ]
        },
        {
            "cell_type": "markdown",
            "metadata": {},
            "source": [
                "**2.2.4** Now, compute the average y_mass of Dream's penguins using the scalar product between the mass vector and the Dream boolean mask."
            ]
        },
        {
            "cell_type": "code",
            "execution_count": null,
            "metadata": {},
            "outputs": [],
            "source": [
                "# Your solution here ###########################################################\n",
                "dream_avg_mass: float = ...\n",
                "# ^^^^^^^^^^^^^^^^^^^^^^^^^^^^^^^^^^^^^^^^^^^^^^^^^^^^^^^^^^^^^^^^^^^^^^^^^^^^^^^\n",
                "print(\"Average Dream's mass:\", dream_avg_mass)"
            ]
        },
        {
            "cell_type": "markdown",
            "metadata": {},
            "source": [
                "**2.2.5** Compute the standard deviation as an inner product too and verify from previous answer."
            ]
        },
        {
            "cell_type": "code",
            "execution_count": null,
            "metadata": {},
            "outputs": [],
            "source": [
                "# Your solution here ###########################################################\n",
                "dream_std_mass: float = ...\n",
                "# ^^^^^^^^^^^^^^^^^^^^^^^^^^^^^^^^^^^^^^^^^^^^^^^^^^^^^^^^^^^^^^^^^^^^^^^^^^^^^^^\n",
                "print(\"Dream's mass std:\", dream_std_mass)"
            ]
        },
        {
            "cell_type": "markdown",
            "metadata": {},
            "source": [
                "### Question 2.3: Linear regression\n",
                "\n",
                "Linear regression aims to find a weight vector $\\mathbf w$ such that the target value $y_i$ can be retrieved as a weighted sum of the corresponding features $\\mathbf x_i$, or in matrix notation\n",
                "$$ \\mathbf{X w} = \\mathbf y. $$\n",
                "\n",
                "Most of the time we cannot find an exact solution to this problem, therefore we introuce an error function and look for weights that minimize it."
            ]
        },
        {
            "cell_type": "markdown",
            "metadata": {},
            "source": [
                "**2.3.1** Find a solution for `w` by solving a linear system with `np.linalg.solve`.\n",
                "For this method to work you need as many equations as variables, so choose them randomly with `np.random.choice`.\n",
                "\n",
                "Selecting random rows your design matrix might become singular. You can use `try` to rerun until it works."
            ]
        },
        {
            "cell_type": "code",
            "execution_count": null,
            "metadata": {},
            "outputs": [],
            "source": [
                "n_samples, n_features = x.shape\n",
                "\n",
                "while True:\n",
                "    try:\n",
                "        # Your solution here ###################################################\n",
                "\n",
                "        w_solve: np.ndarray = ...\n",
                "\n",
                "        # ^^^^^^^^^^^^^^^^^^^^^^^^^^^^^^^^^^^^^^^^^^^^^^^^^^^^^^^^^^^^^^^^^^^^^^^\n",
                "        break\n",
                "    except np.linalg.LinAlgError:\n",
                "        pass\n",
                "\n",
                "print(\"Weights:\", w_solve)"
            ]
        },
        {
            "cell_type": "markdown",
            "metadata": {},
            "source": [
                "**2.3.2** Define a function to compute the mean squared error (MSE) between the real `y` and the predicted one."
            ]
        },
        {
            "cell_type": "code",
            "execution_count": null,
            "metadata": {},
            "outputs": [],
            "source": [
                "def mse(y_true: np.array, y_pred: np.array) -> float:\n",
                "    # Your solution here #######################################################\n",
                "    return ...\n",
                "    # ^^^^^^^^^^^^^^^^^^^^^^^^^^^^^^^^^^^^^^^^^^^^^^^^^^^^^^^^^^^^^^^^^^^^^^^^^^^"
            ]
        },
        {
            "cell_type": "markdown",
            "metadata": {},
            "source": [
                "**2.3.3** Use the weights to predict the penguins masses, then compute their MSE."
            ]
        },
        {
            "cell_type": "code",
            "execution_count": null,
            "metadata": {},
            "outputs": [],
            "source": [
                "# Your solution here ###########################################################\n",
                "mse_solve: float = ...\n",
                "# ^^^^^^^^^^^^^^^^^^^^^^^^^^^^^^^^^^^^^^^^^^^^^^^^^^^^^^^^^^^^^^^^^^^^^^^^^^^^^^^\n",
                "print(\"MSE of random subproblem:\", mse_solve)"
            ]
        },
        {
            "cell_type": "markdown",
            "metadata": {},
            "source": [
                "**2.3.4** Let's look for a solution that uses all the data by using the pseudoinverse of `x`."
            ]
        },
        {
            "cell_type": "code",
            "execution_count": null,
            "metadata": {},
            "outputs": [],
            "source": [
                "# Your solution here ###########################################################\n",
                "w_pinv: np.ndarray = ...\n",
                "# ^^^^^^^^^^^^^^^^^^^^^^^^^^^^^^^^^^^^^^^^^^^^^^^^^^^^^^^^^^^^^^^^^^^^^^^^^^^^^^^"
            ]
        },
        {
            "cell_type": "markdown",
            "metadata": {},
            "source": [
                "**2.3.5** Compute the MSE of this solution prediction."
            ]
        },
        {
            "cell_type": "code",
            "execution_count": null,
            "metadata": {},
            "outputs": [],
            "source": [
                "# Your solution here ###########################################################\n",
                "mse_pinv: float = ...\n",
                "# ^^^^^^^^^^^^^^^^^^^^^^^^^^^^^^^^^^^^^^^^^^^^^^^^^^^^^^^^^^^^^^^^^^^^^^^^^^^^^^^\n",
                "print(\"MSE of psudoinverse solution:\", mse_pinv)"
            ]
        },
        {
            "cell_type": "markdown",
            "metadata": {},
            "source": [
                "### Question 2.4: Broadcasting\n",
                "\n",
                "In this section, we focus on a convenient way to manipulate arrays which allows parallelizing operations over the same input."
            ]
        },
        {
            "cell_type": "markdown",
            "metadata": {},
            "source": [
                "**2.4.1** extract all island one-hot encoding from the data frame and convert to boolean."
            ]
        },
        {
            "cell_type": "code",
            "execution_count": null,
            "metadata": {},
            "outputs": [],
            "source": [
                "# Your solution here ###########################################################\n",
                "islands_oh: np.ndarray = ...\n",
                "# ^^^^^^^^^^^^^^^^^^^^^^^^^^^^^^^^^^^^^^^^^^^^^^^^^^^^^^^^^^^^^^^^^^^^^^^^^^^^^^^\n",
                "print(\"islands shape\", islands_oh.shape)"
            ]
        },
        {
            "cell_type": "markdown",
            "metadata": {},
            "source": [
                "**2.4.2** Multiply the penguin masses to `islands_oh` to mask them in parallel."
            ]
        },
        {
            "cell_type": "code",
            "execution_count": null,
            "metadata": {},
            "outputs": [],
            "source": [
                "try:\n",
                "    # Your solution here ###########################################################\n",
                "    masked_mass: np.ndarray = ...\n",
                "    # ^^^^^^^^^^^^^^^^^^^^^^^^^^^^^^^^^^^^^^^^^^^^^^^^^^^^^^^^^^^^^^^^^^^^^^^^^^^^^^^\n",
                "except ValueError as err:\n",
                "    print(\"There's an ERROR:\", err)"
            ]
        },
        {
            "cell_type": "markdown",
            "metadata": {},
            "source": [
                "**2.4.3** Arrays of different shapes cannot be automatically broadcasted! Using `np.newaxis`, add a dimension to `y_mass` and try again."
            ]
        },
        {
            "cell_type": "code",
            "execution_count": null,
            "metadata": {},
            "outputs": [],
            "source": [
                "# Your solution here ###########################################################\n",
                "masked_mass: np.ndarray = ...\n",
                "# ^^^^^^^^^^^^^^^^^^^^^^^^^^^^^^^^^^^^^^^^^^^^^^^^^^^^^^^^^^^^^^^^^^^^^^^^^^^^^^^"
            ]
        },
        {
            "cell_type": "markdown",
            "metadata": {},
            "source": [
                "**2.4.4** Compute the average masses over different islands summing the masked masses along the corresponding axes."
            ]
        },
        {
            "cell_type": "code",
            "execution_count": null,
            "metadata": {},
            "outputs": [],
            "source": [
                "# Your solution here ###########################################################\n",
                "avg_masses: np.ndarray = ...\n",
                "# ^^^^^^^^^^^^^^^^^^^^^^^^^^^^^^^^^^^^^^^^^^^^^^^^^^^^^^^^^^^^^^^^^^^^^^^^^^^^^^^\n",
                "print(\"Average masses:\")\n",
                "print(dict(zip(islands, avg_masses)))"
            ]
        },
        {
            "cell_type": "markdown",
            "metadata": {},
            "source": [
                "**2.4.5** Use broadcasting and masking to compute standard deviations for each island."
            ]
        },
        {
            "cell_type": "code",
            "execution_count": null,
            "metadata": {},
            "outputs": [],
            "source": [
                "# Your solution here ###########################################################\n",
                "std_masses: np.ndarray = ...\n",
                "# ^^^^^^^^^^^^^^^^^^^^^^^^^^^^^^^^^^^^^^^^^^^^^^^^^^^^^^^^^^^^^^^^^^^^^^^^^^^^^^^\n",
                "print(\"Mass standard deviations:\")\n",
                "print(dict(zip(islands, std_masses)))"
            ]
        },
        {
            "cell_type": "markdown",
            "metadata": {},
            "source": [
                "### Question 2.5: K-Nearest neighbors\n",
                "\n",
                "Let's implement a k-nearest neighbors (kNN) classifier to identify penguin species from their physical attributes.\n",
                "\n",
                "For a query data point, kNN predicts its label as the most frequent one between those of the k closest samples from the training dataset. In this setting, we will use euclidean distance between points:\n",
                "$$ d(\\mathbf x_i, \\mathbf x_j) = \\sqrt{\\sum_{n=1}^D (x_{id} - x_{jd})^2} $$\n",
                "\n",
                "In the next cell, we prepare to split the data in training and test sets."
            ]
        },
        {
            "cell_type": "code",
            "execution_count": null,
            "metadata": {},
            "outputs": [],
            "source": [
                "physical_attributes = [\n",
                "    \"culmen_length_mm\",\n",
                "    \"culmen_depth_mm\",\n",
                "    \"flipper_length_mm\",\n",
                "    \"body_mass_g\",\n",
                "]\n",
                "\n",
                "# We count the number of samples and set the amount of training data to 70% of that\n",
                "n_samples = len(penguins)\n",
                "samples_tr = int(n_samples * 0.7)\n",
                "\n",
                "# We shuffle the indices of the data and take the first 70% to be in training\n",
                "# Working with indices allows us to recognise which features go with which labels\n",
                "rng = np.random.default_rng(11)\n",
                "shuffled = rng.permutation(np.arange(n_samples))\n",
                "idx_tr = shuffled[:samples_tr]\n",
                "idx_te = shuffled[samples_tr:]"
            ]
        },
        {
            "cell_type": "markdown",
            "metadata": {},
            "source": [
                "**2.5.1** Extract training and test features from the `penguins` data frame using the indices defined above and split the `y_species` series (computed in 1.2.5) accordingly.\n",
                "\n",
                "You can use `DataFrame.iloc` to work with integer indexing in pandas.\n",
                "Remember to extract arrays from data frames."
            ]
        },
        {
            "cell_type": "code",
            "execution_count": null,
            "metadata": {},
            "outputs": [],
            "source": [
                "# Your solution here ###########################################################\n",
                "x_tr: np.ndarray = ...\n",
                "x_te: np.ndarray = ...\n",
                "y_tr: np.ndarray = ...\n",
                "y_te: np.ndarray = ...\n",
                "# ^^^^^^^^^^^^^^^^^^^^^^^^^^^^^^^^^^^^^^^^^^^^^^^^^^^^^^^^^^^^^^^^^^^^^^^^^^^^^^\n",
                "print(\"Training features:\", x_tr.shape)\n",
                "print(\"Test features:\", x_te.shape)"
            ]
        },
        {
            "cell_type": "markdown",
            "metadata": {},
            "source": [
                "**2.5.2** Write a function that computes pairwise distances between all query points and training ones. Use broadcasting and sum along corresponding axes to get an efficient implementation."
            ]
        },
        {
            "cell_type": "code",
            "execution_count": null,
            "metadata": {},
            "outputs": [],
            "source": [
                "def pairwise_distances(x_query: np.ndarray, x_tr: np.ndarray) -> np.ndarray:\n",
                "    \"\"\"Compute pairwise distances\n",
                "\n",
                "    Args:\n",
                "        x_query (np.ndarray): Array of shape (n_queries, n_features)\n",
                "        x_tr (np.ndarray): Array of shape (n_samples, n_features)\n",
                "\n",
                "    Returns:\n",
                "        np.ndarray: Distances in array of shape (n_queries, n_samples)\n",
                "    \"\"\"\n",
                "    # Your solution here #######################################################\n",
                "    return ...\n",
                "    # ^^^^^^^^^^^^^^^^^^^^^^^^^^^^^^^^^^^^^^^^^^^^^^^^^^^^^^^^^^^^^^^^^^^^^^^^^^\n",
                "\n",
                "\n",
                "pdists_te = pairwise_distances(x_te, x_tr)\n",
                "print(\"Distances shape:\", pdists_te.shape)"
            ]
        },
        {
            "cell_type": "markdown",
            "metadata": {},
            "source": [
                "**2.5.3** For each query, identify the closest training samples using `np.argsort`. Use the `axis` argument to avoid iterating over the matrix."
            ]
        },
        {
            "cell_type": "code",
            "execution_count": null,
            "metadata": {},
            "outputs": [],
            "source": [
                "# Your solution here ###########################################################\n",
                "nearest_ngbs_te: np.ndarray = ...\n",
                "# ^^^^^^^^^^^^^^^^^^^^^^^^^^^^^^^^^^^^^^^^^^^^^^^^^^^^^^^^^^^^^^^^^^^^^^^^^^^^^^\n",
                "\n",
                "print(\"5 nearest neighbors for query 4:\", nearest_ngbs_te[4, :5])"
            ]
        },
        {
            "cell_type": "markdown",
            "metadata": {},
            "source": [
                "**2.5.4** Write a function that takes an array of nearest neighbors for each query, together with training labels and the predefined $k$ and returns the predicted labels for queries."
            ]
        },
        {
            "cell_type": "code",
            "execution_count": null,
            "metadata": {},
            "outputs": [],
            "source": [
                "def predict_labels(nearest_ngbs: np.ndarray, y_tr: np.ndarray, k: int) -> np.ndarray:\n",
                "    \"\"\"Predict labels from k-nearest neighbors\n",
                "\n",
                "    Args:\n",
                "        nearest_ngbs (np.ndarray): Array of neighbors indices, sorted by distance.\n",
                "            Shape: (n_queries, n_samples)\n",
                "        y_tr (np.ndarray): Training labels of shape (n_samples,)\n",
                "        k (int): number of nearest neighbors to consider\n",
                "\n",
                "    Returns:\n",
                "        np.ndarray: Predicted labels of shape (n_queries,)\n",
                "    \"\"\"\n",
                "    # Your solution here #######################################################\n",
                "    # Extract nearest ngbs labels\n",
                "    ...\n",
                "\n",
                "    # Count label occurrencies for each query\n",
                "    ...\n",
                "\n",
                "    # Return most frequent occurrence\n",
                "    return ...\n",
                "\n",
                "    # ^^^^^^^^^^^^^^^^^^^^^^^^^^^^^^^^^^^^^^^^^^^^^^^^^^^^^^^^^^^^^^^^^^^^^^^^^^\n",
                "\n",
                "\n",
                "print(\n",
                "    \"Predicted labels of the first 10 queries:\",\n",
                "    predict_labels(nearest_ngbs_te[:10], y_tr, 5),\n",
                ")\n",
                "print(\"Real labels:                             \", y_te[:10])"
            ]
        },
        {
            "cell_type": "markdown",
            "metadata": {},
            "source": [
                "**2.5.5** Compute the precision of kNN's predictions for both the training and test datasets for all k between 1 and 30."
            ]
        },
        {
            "cell_type": "code",
            "execution_count": null,
            "metadata": {},
            "outputs": [],
            "source": [
                "# Your solution here ###########################################################\n",
                "precisions_te: list[float] = ...\n",
                "\n",
                "precisions_tr: list[float] = ...\n",
                "\n",
                "# ^^^^^^^^^^^^^^^^^^^^^^^^^^^^^^^^^^^^^^^^^^^^^^^^^^^^^^^^^^^^^^^^^^^^^^^^^^^^^^\n",
                "\n",
                "# Plot\n",
                "fig, ax = plt.subplots(figsize=(8, 3), dpi=100)\n",
                "ax.plot(precisions_tr, label=\"Train\")\n",
                "ax.plot(precisions_te, label=\"Test\")\n",
                "ax.set(title=\"My kNN implmentation\", ylabel=\"precision\", xlabel=\"k value\")\n",
                "plt.legend()\n",
                "plt.show()"
            ]
        },
        {
            "cell_type": "markdown",
            "metadata": {},
            "source": [
                "## Part 3: Scikit-learn, machine learning toolbox\n",
                "\n",
                "Scikit-learn provides implementations for many machine learning algorithms, which all share the basic common interface of `fit` and `predict` methods. Let's compare it to our kNN implementation."
            ]
        },
        {
            "cell_type": "markdown",
            "metadata": {},
            "source": [
                "**3.1** Import the k nearest neighbor classifier from Scikit-learn."
            ]
        },
        {
            "cell_type": "code",
            "execution_count": null,
            "metadata": {},
            "outputs": [],
            "source": [
                "# Your solution here ###########################################################\n",
                "from sklearn ...\n",
                "\n",
                "# ^^^^^^^^^^^^^^^^^^^^^^^^^^^^^^^^^^^^^^^^^^^^^^^^^^^^^^^^^^^^^^^^^^^^^^^^^^^^^^"
            ]
        },
        {
            "cell_type": "markdown",
            "metadata": {},
            "source": [
                "**3.2** Import the precision function."
            ]
        },
        {
            "cell_type": "code",
            "execution_count": null,
            "metadata": {},
            "outputs": [],
            "source": [
                "# Your solution here ###########################################################\n",
                "\n",
                "# ^^^^^^^^^^^^^^^^^^^^^^^^^^^^^^^^^^^^^^^^^^^^^^^^^^^^^^^^^^^^^^^^^^^^^^^^^^^^^^"
            ]
        },
        {
            "cell_type": "markdown",
            "metadata": {},
            "source": [
                "**3.3** Compute train and test precision for all k between 1 and 30. Use the \"micro\" option for the precision score."
            ]
        },
        {
            "cell_type": "code",
            "execution_count": null,
            "metadata": {},
            "outputs": [],
            "source": [
                "# Your solution here ###########################################################\n",
                "\n",
                "sk_prec_tr: list[float] = ...\n",
                "sk_prec_te: list[float] = ...\n",
                "\n",
                "# ^^^^^^^^^^^^^^^^^^^^^^^^^^^^^^^^^^^^^^^^^^^^^^^^^^^^^^^^^^^^^^^^^^^^^^^^^^^^^^"
            ]
        },
        {
            "cell_type": "markdown",
            "metadata": {},
            "source": [
                "**3.4** Plot scores and compare to your implementation."
            ]
        },
        {
            "cell_type": "code",
            "execution_count": null,
            "metadata": {},
            "outputs": [],
            "source": [
                "fig, ax = plt.subplots(figsize=(8, 3), dpi=100)\n",
                "# Your solution here ###########################################################\n",
                "\n",
                "# ^^^^^^^^^^^^^^^^^^^^^^^^^^^^^^^^^^^^^^^^^^^^^^^^^^^^^^^^^^^^^^^^^^^^^^^^^^^^^^\n",
                "\n",
                "ax.set(title=\"SkLearn kNN implementation\", ylabel=\"precision\", xlabel=\"k value\")\n",
                "plt.legend()\n",
                "plt.show()"
            ]
        },
        {
            "cell_type": "code",
            "execution_count": null,
            "metadata": {},
            "outputs": [],
            "source": []
        }
    ],
    "metadata": {
        "colab": {
            "provenance": [],
            "toc_visible": true
        },
        "kernelspec": {
            "display_name": "playground",
            "language": "python",
            "name": "python3"
        },
        "language_info": {
            "codemirror_mode": {
                "name": "ipython",
                "version": 3
            },
            "file_extension": ".py",
            "mimetype": "text/x-python",
            "name": "python",
            "nbconvert_exporter": "python",
            "pygments_lexer": "ipython3",
            "version": "3.12.1"
        },
        "vscode": {
            "interpreter": {
                "hash": "1b6258ac5f9ce9aee8bc7e8f09e746bac739d42425ff8343fe5df569d2e6cb19"
            }
        }
    },
    "nbformat": 4,
    "nbformat_minor": 0
}
